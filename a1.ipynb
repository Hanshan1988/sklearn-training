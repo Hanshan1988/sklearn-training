{
 "cells": [
  {
   "cell_type": "code",
   "execution_count": 39,
   "metadata": {},
   "outputs": [],
   "source": [
    "import inspect"
   ]
  },
  {
   "cell_type": "code",
   "execution_count": 4,
   "metadata": {},
   "outputs": [],
   "source": [
    "import os\n",
    "import numpy as np\n",
    "import matplotlib.pyplot as plt\n",
    "import seaborn as sns\n",
    "import pandas as pd\n",
    "from scipy.io import arff\n",
    "\n",
    "from matplotlib.colors import ListedColormap\n",
    "\n",
    "from sklearn.model_selection import train_test_split\n",
    "from sklearn.model_selection import learning_curve\n",
    "from sklearn.model_selection import validation_curve\n",
    "from sklearn.model_selection import ShuffleSplit\n",
    "from sklearn.pipeline import make_pipeline\n",
    "from sklearn.preprocessing import StandardScaler\n",
    "\n",
    "from sklearn.datasets import load_iris, load_digits, load_breast_cancer\n",
    "\n",
    "from sklearn.decomposition import PCA\n",
    "from sklearn.neural_network import MLPClassifier\n",
    "from sklearn.neighbors import KNeighborsClassifier\n",
    "from sklearn.svm import SVC\n",
    "from sklearn.tree import DecisionTreeClassifier\n",
    "from sklearn.ensemble import GradientBoostingClassifier\n",
    "\n",
    "%matplotlib inline"
   ]
  },
  {
   "cell_type": "code",
   "execution_count": 5,
   "metadata": {},
   "outputs": [],
   "source": [
    "def get_pd_df(data, label='label'):\n",
    "    X = data.data\n",
    "    y = data.target\n",
    "    df_X = pd.DataFrame(data=X, columns=data.feature_names)\n",
    "    df_y = pd.DataFrame(data=y, columns=[label])\n",
    "    df = pd.concat([df_X, df_y], axis=1)\n",
    "    return df\n",
    "\n",
    "def plot_decn_bdry(X, y, model_class, **model_params):\n",
    "    \"\"\"Function to plot the decision boundaries of a classification model.\n",
    "    This uses just the first two columns of the data for fitting \n",
    "    the model as we need to find the predicted value for every point in \n",
    "    scatter plot.\n",
    "    \n",
    "    One possible improvement could be to use all columns fot fitting\n",
    "    and using the first 2 columns and median of all other columns\n",
    "    for predicting.\n",
    "    \n",
    "    Adopted from:\n",
    "    http://scikit-learn.org/stable/auto_examples/ensemble/plot_voting_decision_regions.html\n",
    "    http://scikit-learn.org/stable/auto_examples/cluster/plot_kmeans_digits.html\n",
    "    \"\"\"\n",
    "    \n",
    "    scaler = StandardScaler()\n",
    "    X = StandardScaler().fit_transform(X)\n",
    "    \n",
    "    pca = PCA(n_components=2)\n",
    "    X_t = pca.fit_transform(X)\n",
    "    \n",
    "    model = model_class(**model_params)\n",
    "    model.fit(X, y)\n",
    "\n",
    "    # Step size of the mesh\n",
    "    h = .02 \n",
    "\n",
    "    # Plot the decision boundary in 2 dimensions\n",
    "    x_min, x_max = X_t[:, 0].min() - .5, X_t[:, 0].max() + .5\n",
    "    y_min, y_max = X_t[:, 1].min() - .5, X_t[:, 1].max() + .5\n",
    "    xx, yy = np.meshgrid(np.arange(x_min, x_max, h), np.arange(y_min, y_max, h))\n",
    "\n",
    "    # Obtain labels for each point in mesh using the model.\n",
    "    dstacked = np.dstack((xx, yy))\n",
    "    shape_t = (xx.shape[0] * xx.shape[1], X.shape[1])\n",
    "    predict_data = pca.inverse_transform(dstacked).reshape(shape_t)\n",
    "    Z = model.predict(predict_data).reshape(xx.shape) \n",
    "\n",
    "    plt.contourf(xx, yy, Z, cmap=plt.cm.Spectral)\n",
    "    plt.scatter(X_t[:, 0], X_t[:, 1], c=y, cmap=plt.cm.Spectral)\n",
    "#     plt.contourf(xx, yy, Z, alpha=0.4)\n",
    "#     plt.scatter(X[:, 0], X[:, 1], c=y, alpha=0.8)\n",
    "    return plt\n",
    "\n",
    "def get_freq_plot(df, col):\n",
    "    val_cnt_df = pd.DataFrame(df[col].value_counts())\n",
    "    freq_data = val_cnt_df.reset_index().rename(columns={'index': 'value', col:'count'})\n",
    "    ax = sns.barplot(x=\"value\", y=\"count\",data=freq_data)"
   ]
  },
  {
   "cell_type": "code",
   "execution_count": 6,
   "metadata": {},
   "outputs": [
    {
     "ename": "NameError",
     "evalue": "name 'RandomForestClassifier' is not defined",
     "output_type": "error",
     "traceback": [
      "\u001b[0;31m---------------------------------------------------------------------------\u001b[0m",
      "\u001b[0;31mNameError\u001b[0m                                 Traceback (most recent call last)",
      "\u001b[0;32m<ipython-input-6-19802c8ae7df>\u001b[0m in \u001b[0;36m<module>\u001b[0;34m\u001b[0m\n\u001b[1;32m      8\u001b[0m     \u001b[0mSVC\u001b[0m\u001b[0;34m(\u001b[0m\u001b[0mgamma\u001b[0m\u001b[0;34m=\u001b[0m\u001b[0;36m2\u001b[0m\u001b[0;34m,\u001b[0m \u001b[0mC\u001b[0m\u001b[0;34m=\u001b[0m\u001b[0;36m1\u001b[0m\u001b[0;34m)\u001b[0m\u001b[0;34m,\u001b[0m\u001b[0;34m\u001b[0m\u001b[0;34m\u001b[0m\u001b[0m\n\u001b[1;32m      9\u001b[0m     \u001b[0mDecisionTreeClassifier\u001b[0m\u001b[0;34m(\u001b[0m\u001b[0mmax_depth\u001b[0m\u001b[0;34m=\u001b[0m\u001b[0;36m5\u001b[0m\u001b[0;34m)\u001b[0m\u001b[0;34m,\u001b[0m\u001b[0;34m\u001b[0m\u001b[0;34m\u001b[0m\u001b[0m\n\u001b[0;32m---> 10\u001b[0;31m     \u001b[0mRandomForestClassifier\u001b[0m\u001b[0;34m(\u001b[0m\u001b[0mmax_depth\u001b[0m\u001b[0;34m=\u001b[0m\u001b[0;36m3\u001b[0m\u001b[0;34m,\u001b[0m \u001b[0mn_estimators\u001b[0m\u001b[0;34m=\u001b[0m\u001b[0;36m100\u001b[0m\u001b[0;34m,\u001b[0m \u001b[0mmax_features\u001b[0m\u001b[0;34m=\u001b[0m\u001b[0;36m4\u001b[0m\u001b[0;34m)\u001b[0m\u001b[0;34m,\u001b[0m\u001b[0;34m\u001b[0m\u001b[0;34m\u001b[0m\u001b[0m\n\u001b[0m\u001b[1;32m     11\u001b[0m     \u001b[0mMLPClassifier\u001b[0m\u001b[0;34m(\u001b[0m\u001b[0mhidden_layer_sizes\u001b[0m\u001b[0;34m=\u001b[0m\u001b[0;34m(\u001b[0m\u001b[0;36m10\u001b[0m\u001b[0;34m,\u001b[0m\u001b[0;34m)\u001b[0m\u001b[0;34m)\u001b[0m\u001b[0;34m,\u001b[0m\u001b[0;34m\u001b[0m\u001b[0;34m\u001b[0m\u001b[0m\n\u001b[1;32m     12\u001b[0m     \u001b[0mGradientBoostingClassifier\u001b[0m\u001b[0;34m(\u001b[0m\u001b[0mmax_depth\u001b[0m\u001b[0;34m=\u001b[0m\u001b[0;36m3\u001b[0m\u001b[0;34m,\u001b[0m \u001b[0mn_estimators\u001b[0m\u001b[0;34m=\u001b[0m\u001b[0;36m100\u001b[0m\u001b[0;34m,\u001b[0m \u001b[0mmax_features\u001b[0m\u001b[0;34m=\u001b[0m\u001b[0;36m4\u001b[0m\u001b[0;34m)\u001b[0m\u001b[0;34m,\u001b[0m\u001b[0;34m\u001b[0m\u001b[0;34m\u001b[0m\u001b[0m\n",
      "\u001b[0;31mNameError\u001b[0m: name 'RandomForestClassifier' is not defined"
     ]
    }
   ],
   "source": [
    "h = .02  # step size in the mesh\n",
    "\n",
    "names = [\"KNN\", \"Linear SVM\", \"RBF SVM\", \"Decision Tree\", \n",
    "         \"Random Forest\", \"Neural Net\", \"GradientBoostedMachines\", \"Naive Bayes\"]\n",
    "classifiers = [\n",
    "    KNeighborsClassifier(5),\n",
    "    SVC(kernel=\"linear\", C=0.025),\n",
    "    SVC(gamma=2, C=1),\n",
    "    DecisionTreeClassifier(max_depth=5),\n",
    "    RandomForestClassifier(max_depth=3, n_estimators=100, max_features=4),\n",
    "    MLPClassifier(hidden_layer_sizes=(10,)),\n",
    "    GradientBoostingClassifier(max_depth=3, n_estimators=100, max_features=4),\n",
    "    GaussianNB()]\n",
    "\n",
    "train_frac_arr = np.linspace(.2, 1, 5)\n",
    "# train_frac_arr = np.linspace(.1, 1, 10)\n",
    "print(train_frac_arr)"
   ]
  },
  {
   "cell_type": "code",
   "execution_count": 7,
   "metadata": {},
   "outputs": [],
   "source": [
    "def gen_knn_pipe():\n",
    "    pipeline = Pipeline([('Scale', StandardScaler()), ('KNN', KNeighborsClassifier())])\n",
    "\n",
    "    # set up parameter grid for parameters to search over\n",
    "    params = {'KNN__metric': ['manhattan', 'minkowski', 'chebyshev'],\n",
    "              'KNN__n_neighbors': np.arange(5, 30, 5),\n",
    "              'KNN__weights': ['uniform', 'distance']\n",
    "              }"
   ]
  },
  {
   "cell_type": "code",
   "execution_count": 8,
   "metadata": {},
   "outputs": [
    {
     "name": "stdout",
     "output_type": "stream",
     "text": [
      "(569, 30) (569,)\n",
      "['malignant', 'benign']\n",
      "(569, 31)\n"
     ]
    }
   ],
   "source": [
    "data = load_breast_cancer()\n",
    "label = 'diagnosis'\n",
    "\n",
    "X, y = data.data, data.target\n",
    "print(X.shape, y.shape)\n",
    "print(list(data.target_names))\n",
    "df = get_pd_df(data, label=label)\n",
    "print(df.shape)"
   ]
  },
  {
   "cell_type": "code",
   "execution_count": 6,
   "metadata": {},
   "outputs": [],
   "source": [
    "# data = load_iris()\n",
    "# label = 'species'\n",
    "\n",
    "# X, y = data.data, data.target\n",
    "# print(X.shape, y.shape)\n",
    "# print(list(data.target_names))\n",
    "# df = get_pd_df(data, label=label)\n",
    "# print(df.shape)"
   ]
  },
  {
   "cell_type": "code",
   "execution_count": 7,
   "metadata": {},
   "outputs": [],
   "source": [
    "# plot_decn_bdry(X, y, KNeighborsClassifier, n_neighbors=5)"
   ]
  },
  {
   "cell_type": "code",
   "execution_count": 77,
   "metadata": {},
   "outputs": [
    {
     "name": "stdout",
     "output_type": "stream",
     "text": [
      "(1599, 12)\n"
     ]
    },
    {
     "data": {
      "text/html": [
       "<div>\n",
       "<style scoped>\n",
       "    .dataframe tbody tr th:only-of-type {\n",
       "        vertical-align: middle;\n",
       "    }\n",
       "\n",
       "    .dataframe tbody tr th {\n",
       "        vertical-align: top;\n",
       "    }\n",
       "\n",
       "    .dataframe thead th {\n",
       "        text-align: right;\n",
       "    }\n",
       "</style>\n",
       "<table border=\"1\" class=\"dataframe\">\n",
       "  <thead>\n",
       "    <tr style=\"text-align: right;\">\n",
       "      <th></th>\n",
       "      <th>fixed acidity</th>\n",
       "      <th>volatile acidity</th>\n",
       "      <th>citric acid</th>\n",
       "      <th>residual sugar</th>\n",
       "      <th>chlorides</th>\n",
       "      <th>free sulfur dioxide</th>\n",
       "      <th>total sulfur dioxide</th>\n",
       "      <th>density</th>\n",
       "      <th>pH</th>\n",
       "      <th>sulphates</th>\n",
       "      <th>alcohol</th>\n",
       "      <th>quality</th>\n",
       "    </tr>\n",
       "  </thead>\n",
       "  <tbody>\n",
       "    <tr>\n",
       "      <th>0</th>\n",
       "      <td>7.4</td>\n",
       "      <td>0.70</td>\n",
       "      <td>0.00</td>\n",
       "      <td>1.9</td>\n",
       "      <td>0.076</td>\n",
       "      <td>11.0</td>\n",
       "      <td>34.0</td>\n",
       "      <td>0.9978</td>\n",
       "      <td>3.51</td>\n",
       "      <td>0.56</td>\n",
       "      <td>9.4</td>\n",
       "      <td>5</td>\n",
       "    </tr>\n",
       "    <tr>\n",
       "      <th>1</th>\n",
       "      <td>7.8</td>\n",
       "      <td>0.88</td>\n",
       "      <td>0.00</td>\n",
       "      <td>2.6</td>\n",
       "      <td>0.098</td>\n",
       "      <td>25.0</td>\n",
       "      <td>67.0</td>\n",
       "      <td>0.9968</td>\n",
       "      <td>3.20</td>\n",
       "      <td>0.68</td>\n",
       "      <td>9.8</td>\n",
       "      <td>5</td>\n",
       "    </tr>\n",
       "    <tr>\n",
       "      <th>2</th>\n",
       "      <td>7.8</td>\n",
       "      <td>0.76</td>\n",
       "      <td>0.04</td>\n",
       "      <td>2.3</td>\n",
       "      <td>0.092</td>\n",
       "      <td>15.0</td>\n",
       "      <td>54.0</td>\n",
       "      <td>0.9970</td>\n",
       "      <td>3.26</td>\n",
       "      <td>0.65</td>\n",
       "      <td>9.8</td>\n",
       "      <td>5</td>\n",
       "    </tr>\n",
       "    <tr>\n",
       "      <th>3</th>\n",
       "      <td>11.2</td>\n",
       "      <td>0.28</td>\n",
       "      <td>0.56</td>\n",
       "      <td>1.9</td>\n",
       "      <td>0.075</td>\n",
       "      <td>17.0</td>\n",
       "      <td>60.0</td>\n",
       "      <td>0.9980</td>\n",
       "      <td>3.16</td>\n",
       "      <td>0.58</td>\n",
       "      <td>9.8</td>\n",
       "      <td>6</td>\n",
       "    </tr>\n",
       "    <tr>\n",
       "      <th>4</th>\n",
       "      <td>7.4</td>\n",
       "      <td>0.70</td>\n",
       "      <td>0.00</td>\n",
       "      <td>1.9</td>\n",
       "      <td>0.076</td>\n",
       "      <td>11.0</td>\n",
       "      <td>34.0</td>\n",
       "      <td>0.9978</td>\n",
       "      <td>3.51</td>\n",
       "      <td>0.56</td>\n",
       "      <td>9.4</td>\n",
       "      <td>5</td>\n",
       "    </tr>\n",
       "  </tbody>\n",
       "</table>\n",
       "</div>"
      ],
      "text/plain": [
       "   fixed acidity  volatile acidity  citric acid  residual sugar  chlorides  \\\n",
       "0            7.4              0.70         0.00             1.9      0.076   \n",
       "1            7.8              0.88         0.00             2.6      0.098   \n",
       "2            7.8              0.76         0.04             2.3      0.092   \n",
       "3           11.2              0.28         0.56             1.9      0.075   \n",
       "4            7.4              0.70         0.00             1.9      0.076   \n",
       "\n",
       "   free sulfur dioxide  total sulfur dioxide  density    pH  sulphates  \\\n",
       "0                 11.0                  34.0   0.9978  3.51       0.56   \n",
       "1                 25.0                  67.0   0.9968  3.20       0.68   \n",
       "2                 15.0                  54.0   0.9970  3.26       0.65   \n",
       "3                 17.0                  60.0   0.9980  3.16       0.58   \n",
       "4                 11.0                  34.0   0.9978  3.51       0.56   \n",
       "\n",
       "   alcohol  quality  \n",
       "0      9.4        5  \n",
       "1      9.8        5  \n",
       "2      9.8        5  \n",
       "3      9.8        6  \n",
       "4      9.4        5  "
      ]
     },
     "execution_count": 77,
     "metadata": {},
     "output_type": "execute_result"
    }
   ],
   "source": [
    "df = pd.read_csv('wine-quality/winequality-red.csv', sep=';')\n",
    "label = 'quality'\n",
    "print(df.shape)\n",
    "df.head()"
   ]
  },
  {
   "cell_type": "code",
   "execution_count": 64,
   "metadata": {},
   "outputs": [],
   "source": [
    "if label == 'quality':\n",
    "    df[label] = df[label].map(lambda x: 0 if x in [3, 4, 5] else 1)"
   ]
  },
  {
   "cell_type": "code",
   "execution_count": 9,
   "metadata": {},
   "outputs": [
    {
     "data": {
      "image/png": "[encoded data removed]",
      "text/plain": [
       "<Figure size 432x288 with 1 Axes>"
      ]
     },
     "metadata": {
      "needs_background": "light"
     },
     "output_type": "display_data"
    }
   ],
   "source": [
    "get_freq_plot(df, label)"
   ]
  },
  {
   "cell_type": "code",
   "execution_count": 11,
   "metadata": {},
   "outputs": [
    {
     "data": {
      "text/plain": [
       "1    0.534709\n",
       "0    0.465291\n",
       "Name: quality, dtype: float64"
      ]
     },
     "execution_count": 11,
     "metadata": {},
     "output_type": "execute_result"
    }
   ],
   "source": [
    "df[label].value_counts()/df[label].value_counts().sum()"
   ]
  },
  {
   "cell_type": "code",
   "execution_count": 12,
   "metadata": {},
   "outputs": [
    {
     "data": {
      "text/plain": [
       "Index(['fixed acidity', 'volatile acidity', 'citric acid', 'residual sugar',\n",
       "       'chlorides', 'free sulfur dioxide', 'total sulfur dioxide', 'density',\n",
       "       'pH', 'sulphates', 'alcohol', 'quality'],\n",
       "      dtype='object')"
      ]
     },
     "execution_count": 12,
     "metadata": {},
     "output_type": "execute_result"
    }
   ],
   "source": [
    "df.columns"
   ]
  },
  {
   "cell_type": "code",
   "execution_count": 13,
   "metadata": {},
   "outputs": [],
   "source": [
    "def set_split(df, label):\n",
    "    X = df[[col for col in df.columns if col != label]]\n",
    "    y = df[label]\n",
    "#     X = StandardScaler().fit_transform(X)\n",
    "    X_train, X_test, y_train, y_test = train_test_split(X, y, test_size=0.3, random_state=42)\n",
    "    return X_train, X_test, y_train, y_test\n",
    "\n",
    "def train_test_score(X_train, y_train, X_test, y_test, clf):\n",
    "    clf.fit(X_train, y_train)\n",
    "    train_score = clf.score(X_train, y_train)\n",
    "    test_score = clf.score(X_test, y_test)\n",
    "    return train_score, test_score"
   ]
  },
  {
   "cell_type": "code",
   "execution_count": 30,
   "metadata": {},
   "outputs": [],
   "source": [
    "def plot_learning_curve_df(df, label, train_frac_arr, clf, y_min, y_max):\n",
    "    X = df[[col for col in df.columns if col != label]]\n",
    "    y = df[label]\n",
    "    scorer = 'accuracy'\n",
    "    train_sizes, train_scores, test_scores = \\\n",
    "        learning_curve(clf, X, y, n_jobs=-1, scoring= scorer, train_sizes=train_frac_arr, cv=4)\n",
    "    train_scores_mean = np.mean(train_scores, axis=1)\n",
    "    train_scores_std = np.std(train_scores, axis=1)\n",
    "    test_scores_mean = np.mean(test_scores, axis=1)\n",
    "    test_scores_std = np.std(test_scores, axis=1)\n",
    "    plt.grid()\n",
    "    plt.fill_between(train_sizes, train_scores_mean - train_scores_std,\n",
    "                     train_scores_mean + train_scores_std, alpha=0.1,\n",
    "                     color=\"r\")\n",
    "    plt.fill_between(train_sizes, test_scores_mean - test_scores_std,\n",
    "                     test_scores_mean + test_scores_std, alpha=0.1, color=\"g\")\n",
    "    plt.plot(train_sizes, train_scores_mean, 'o-', color=\"r\",\n",
    "             label=\"Training score\")\n",
    "    plt.plot(train_sizes, test_scores_mean, 'o-', color=\"g\",\n",
    "             label=\"Cross-validation score\")\n",
    "    plt.legend(loc=\"best\")\n",
    "    plt.ylim(y_min, y_max)\n",
    "    plt.xlabel(\"Training examples\")\n",
    "    plt.ylabel(\"Score\")\n",
    "    scores = pd.DataFrame({'train_scores_mean': train_scores_mean,\n",
    "                           'train_scores_std': train_scores_std,\n",
    "                           'test_scores_mean': test_scores_mean,\n",
    "                           'test_scores_std': test_scores_std})\n",
    "    return {'plot':plt, 'scores':scores}\n",
    "\n",
    "def plot_validation_curve_df(df, label, param_name, param_range, clf, y_min, y_max, xlog_scale=False):\n",
    "    X = df[[col for col in df.columns if col != label]]\n",
    "    y = df[label]\n",
    "    scorer = 'accuracy'\n",
    "    train_scores, test_scores = validation_curve(clf, X, y, param_name=param_name, param_range=param_range, \n",
    "                                                 scoring=scorer, cv=4)\n",
    "    train_scores_mean = np.mean(train_scores, axis=1)\n",
    "    train_scores_std = np.std(train_scores, axis=1)\n",
    "    test_scores_mean = np.mean(test_scores, axis=1)\n",
    "    test_scores_std = np.std(test_scores, axis=1)\n",
    "    \n",
    "    plt.grid()\n",
    "    plt.xlabel(\"{}\".format(param_name.replace('_', ' ')))\n",
    "    plt.ylabel(\"Score\")\n",
    "    lw = 2\n",
    "    \n",
    "    if xlog_scale:\n",
    "        plot_func = plt.semilogx\n",
    "    else:\n",
    "        plot_func = plt.plot\n",
    "        \n",
    "    plot_func(param_range, train_scores_mean, 'o-',\n",
    "                 label=\"Training score\", color=\"darkorange\", lw=lw)\n",
    "    plt.fill_between(param_range, train_scores_mean - train_scores_std,\n",
    "                     train_scores_mean + train_scores_std, alpha=0.1,\n",
    "                     color=\"darkorange\", lw=lw)\n",
    "    plot_func(param_range, test_scores_mean, 'o-',\n",
    "                     label=\"Cross-validation score\", color=\"navy\", lw=lw)\n",
    "    plt.fill_between(param_range, test_scores_mean - test_scores_std,\n",
    "                     test_scores_mean + test_scores_std, alpha=0.1,\n",
    "                     color=\"navy\", lw=lw)\n",
    "    plt.legend(loc=\"best\")\n",
    "    plt.ylim(y_min, y_max)\n",
    "    scores = pd.DataFrame({'train_scores_mean': train_scores_mean,\n",
    "                           'train_scores_std': train_scores_std,\n",
    "                           'test_scores_mean': test_scores_mean,\n",
    "                           'test_scores_std': test_scores_std})\n",
    "    return {'plot':plt, 'scores':scores}"
   ]
  },
  {
   "cell_type": "code",
   "execution_count": 15,
   "metadata": {},
   "outputs": [],
   "source": [
    "y_min, y_max = 0.5, 0.9"
   ]
  },
  {
   "cell_type": "code",
   "execution_count": 96,
   "metadata": {},
   "outputs": [
    {
     "name": "stdout",
     "output_type": "stream",
     "text": [
      "CPU times: user 95.2 ms, sys: 34.5 ms, total: 130 ms\n",
      "Wall time: 412 ms\n"
     ]
    },
    {
     "data": {
      "text/html": [
       "<div>\n",
       "<style scoped>\n",
       "    .dataframe tbody tr th:only-of-type {\n",
       "        vertical-align: middle;\n",
       "    }\n",
       "\n",
       "    .dataframe tbody tr th {\n",
       "        vertical-align: top;\n",
       "    }\n",
       "\n",
       "    .dataframe thead th {\n",
       "        text-align: right;\n",
       "    }\n",
       "</style>\n",
       "<table border=\"1\" class=\"dataframe\">\n",
       "  <thead>\n",
       "    <tr style=\"text-align: right;\">\n",
       "      <th></th>\n",
       "      <th>train_scores_mean</th>\n",
       "      <th>train_scores_std</th>\n",
       "      <th>test_scores_mean</th>\n",
       "      <th>test_scores_std</th>\n",
       "    </tr>\n",
       "  </thead>\n",
       "  <tbody>\n",
       "    <tr>\n",
       "      <th>0</th>\n",
       "      <td>0.820084</td>\n",
       "      <td>0.007247</td>\n",
       "      <td>0.672909</td>\n",
       "      <td>0.062498</td>\n",
       "    </tr>\n",
       "    <tr>\n",
       "      <th>1</th>\n",
       "      <td>0.809499</td>\n",
       "      <td>0.011182</td>\n",
       "      <td>0.652271</td>\n",
       "      <td>0.041443</td>\n",
       "    </tr>\n",
       "    <tr>\n",
       "      <th>2</th>\n",
       "      <td>0.823366</td>\n",
       "      <td>0.009226</td>\n",
       "      <td>0.647901</td>\n",
       "      <td>0.026293</td>\n",
       "    </tr>\n",
       "    <tr>\n",
       "      <th>3</th>\n",
       "      <td>0.827424</td>\n",
       "      <td>0.009046</td>\n",
       "      <td>0.650406</td>\n",
       "      <td>0.005451</td>\n",
       "    </tr>\n",
       "    <tr>\n",
       "      <th>4</th>\n",
       "      <td>0.825897</td>\n",
       "      <td>0.007698</td>\n",
       "      <td>0.652285</td>\n",
       "      <td>0.006698</td>\n",
       "    </tr>\n",
       "  </tbody>\n",
       "</table>\n",
       "</div>"
      ],
      "text/plain": [
       "   train_scores_mean  train_scores_std  test_scores_mean  test_scores_std\n",
       "0           0.820084          0.007247          0.672909         0.062498\n",
       "1           0.809499          0.011182          0.652271         0.041443\n",
       "2           0.823366          0.009226          0.647901         0.026293\n",
       "3           0.827424          0.009046          0.650406         0.005451\n",
       "4           0.825897          0.007698          0.652285         0.006698"
      ]
     },
     "execution_count": 96,
     "metadata": {},
     "output_type": "execute_result"
    },
    {
     "data": {
      "image/png": "[encoded data removed]",
      "text/plain": [
       "<Figure size 432x288 with 1 Axes>"
      ]
     },
     "metadata": {},
     "output_type": "display_data"
    }
   ],
   "source": [
    "clf = make_pipeline(StandardScaler(), KNeighborsClassifier(n_neighbors=5))\n",
    "%time plot_learning_curve_df(df, label, train_frac_arr, clf, y_min=.5, y_max=.9)['scores']"
   ]
  },
  {
   "cell_type": "code",
   "execution_count": 72,
   "metadata": {},
   "outputs": [
    {
     "data": {
      "text/html": [
       "<div>\n",
       "<style scoped>\n",
       "    .dataframe tbody tr th:only-of-type {\n",
       "        vertical-align: middle;\n",
       "    }\n",
       "\n",
       "    .dataframe tbody tr th {\n",
       "        vertical-align: top;\n",
       "    }\n",
       "\n",
       "    .dataframe thead th {\n",
       "        text-align: right;\n",
       "    }\n",
       "</style>\n",
       "<table border=\"1\" class=\"dataframe\">\n",
       "  <thead>\n",
       "    <tr style=\"text-align: right;\">\n",
       "      <th></th>\n",
       "      <th>train_scores_mean</th>\n",
       "      <th>train_scores_std</th>\n",
       "      <th>test_scores_mean</th>\n",
       "      <th>test_scores_std</th>\n",
       "    </tr>\n",
       "  </thead>\n",
       "  <tbody>\n",
       "    <tr>\n",
       "      <th>0</th>\n",
       "      <td>0.766727</td>\n",
       "      <td>0.007521</td>\n",
       "      <td>0.585976</td>\n",
       "      <td>0.015486</td>\n",
       "    </tr>\n",
       "    <tr>\n",
       "      <th>1</th>\n",
       "      <td>0.721696</td>\n",
       "      <td>0.015742</td>\n",
       "      <td>0.606606</td>\n",
       "      <td>0.022207</td>\n",
       "    </tr>\n",
       "    <tr>\n",
       "      <th>2</th>\n",
       "      <td>0.717736</td>\n",
       "      <td>0.017598</td>\n",
       "      <td>0.621610</td>\n",
       "      <td>0.027555</td>\n",
       "    </tr>\n",
       "    <tr>\n",
       "      <th>3</th>\n",
       "      <td>0.703978</td>\n",
       "      <td>0.019709</td>\n",
       "      <td>0.629746</td>\n",
       "      <td>0.030039</td>\n",
       "    </tr>\n",
       "    <tr>\n",
       "      <th>4</th>\n",
       "      <td>0.698557</td>\n",
       "      <td>0.019738</td>\n",
       "      <td>0.625988</td>\n",
       "      <td>0.031419</td>\n",
       "    </tr>\n",
       "    <tr>\n",
       "      <th>5</th>\n",
       "      <td>0.693344</td>\n",
       "      <td>0.020559</td>\n",
       "      <td>0.629746</td>\n",
       "      <td>0.025109</td>\n",
       "    </tr>\n",
       "    <tr>\n",
       "      <th>6</th>\n",
       "      <td>0.690218</td>\n",
       "      <td>0.020044</td>\n",
       "      <td>0.634742</td>\n",
       "      <td>0.041793</td>\n",
       "    </tr>\n",
       "    <tr>\n",
       "      <th>7</th>\n",
       "      <td>0.680835</td>\n",
       "      <td>0.024075</td>\n",
       "      <td>0.624735</td>\n",
       "      <td>0.038936</td>\n",
       "    </tr>\n",
       "    <tr>\n",
       "      <th>8</th>\n",
       "      <td>0.679586</td>\n",
       "      <td>0.020398</td>\n",
       "      <td>0.639746</td>\n",
       "      <td>0.048585</td>\n",
       "    </tr>\n",
       "    <tr>\n",
       "      <th>9</th>\n",
       "      <td>0.673956</td>\n",
       "      <td>0.021467</td>\n",
       "      <td>0.634748</td>\n",
       "      <td>0.039096</td>\n",
       "    </tr>\n",
       "    <tr>\n",
       "      <th>10</th>\n",
       "      <td>0.671039</td>\n",
       "      <td>0.016962</td>\n",
       "      <td>0.631620</td>\n",
       "      <td>0.037202</td>\n",
       "    </tr>\n",
       "    <tr>\n",
       "      <th>11</th>\n",
       "      <td>0.667079</td>\n",
       "      <td>0.016546</td>\n",
       "      <td>0.625996</td>\n",
       "      <td>0.031157</td>\n",
       "    </tr>\n",
       "    <tr>\n",
       "      <th>12</th>\n",
       "      <td>0.667080</td>\n",
       "      <td>0.014528</td>\n",
       "      <td>0.619123</td>\n",
       "      <td>0.036054</td>\n",
       "    </tr>\n",
       "    <tr>\n",
       "      <th>13</th>\n",
       "      <td>0.670207</td>\n",
       "      <td>0.015135</td>\n",
       "      <td>0.619754</td>\n",
       "      <td>0.041684</td>\n",
       "    </tr>\n",
       "  </tbody>\n",
       "</table>\n",
       "</div>"
      ],
      "text/plain": [
       "    train_scores_mean  train_scores_std  test_scores_mean  test_scores_std\n",
       "0            0.766727          0.007521          0.585976         0.015486\n",
       "1            0.721696          0.015742          0.606606         0.022207\n",
       "2            0.717736          0.017598          0.621610         0.027555\n",
       "3            0.703978          0.019709          0.629746         0.030039\n",
       "4            0.698557          0.019738          0.625988         0.031419\n",
       "5            0.693344          0.020559          0.629746         0.025109\n",
       "6            0.690218          0.020044          0.634742         0.041793\n",
       "7            0.680835          0.024075          0.624735         0.038936\n",
       "8            0.679586          0.020398          0.639746         0.048585\n",
       "9            0.673956          0.021467          0.634748         0.039096\n",
       "10           0.671039          0.016962          0.631620         0.037202\n",
       "11           0.667079          0.016546          0.625996         0.031157\n",
       "12           0.667080          0.014528          0.619123         0.036054\n",
       "13           0.670207          0.015135          0.619754         0.041684"
      ]
     },
     "execution_count": 72,
     "metadata": {},
     "output_type": "execute_result"
    },
    {
     "data": {
      "image/png": "[encoded data removed]",
      "text/plain": [
       "<Figure size 432x288 with 1 Axes>"
      ]
     },
     "metadata": {
      "needs_background": "light"
     },
     "output_type": "display_data"
    }
   ],
   "source": [
    "plot_validation_curve_df(df, label, 'n_neighbors', np.arange(5, 75, 5), KNeighborsClassifier(), \n",
    "                         y_min=.5, y_max=0.8)['scores']"
   ]
  },
  {
   "cell_type": "code",
   "execution_count": 133,
   "metadata": {},
   "outputs": [
    {
     "name": "stdout",
     "output_type": "stream",
     "text": [
      "CPU times: user 102 ms, sys: 37.5 ms, total: 140 ms\n",
      "Wall time: 529 ms\n"
     ]
    },
    {
     "data": {
      "text/html": [
       "<div>\n",
       "<style scoped>\n",
       "    .dataframe tbody tr th:only-of-type {\n",
       "        vertical-align: middle;\n",
       "    }\n",
       "\n",
       "    .dataframe tbody tr th {\n",
       "        vertical-align: top;\n",
       "    }\n",
       "\n",
       "    .dataframe thead th {\n",
       "        text-align: right;\n",
       "    }\n",
       "</style>\n",
       "<table border=\"1\" class=\"dataframe\">\n",
       "  <thead>\n",
       "    <tr style=\"text-align: right;\">\n",
       "      <th></th>\n",
       "      <th>train_scores_mean</th>\n",
       "      <th>train_scores_std</th>\n",
       "      <th>test_scores_mean</th>\n",
       "      <th>test_scores_std</th>\n",
       "    </tr>\n",
       "  </thead>\n",
       "  <tbody>\n",
       "    <tr>\n",
       "      <th>0</th>\n",
       "      <td>0.757322</td>\n",
       "      <td>0.000000</td>\n",
       "      <td>0.666039</td>\n",
       "      <td>0.034913</td>\n",
       "    </tr>\n",
       "    <tr>\n",
       "      <th>1</th>\n",
       "      <td>0.752610</td>\n",
       "      <td>0.009395</td>\n",
       "      <td>0.691670</td>\n",
       "      <td>0.053413</td>\n",
       "    </tr>\n",
       "    <tr>\n",
       "      <th>2</th>\n",
       "      <td>0.770167</td>\n",
       "      <td>0.009401</td>\n",
       "      <td>0.684168</td>\n",
       "      <td>0.035546</td>\n",
       "    </tr>\n",
       "    <tr>\n",
       "      <th>3</th>\n",
       "      <td>0.780240</td>\n",
       "      <td>0.012586</td>\n",
       "      <td>0.675410</td>\n",
       "      <td>0.032206</td>\n",
       "    </tr>\n",
       "    <tr>\n",
       "      <th>4</th>\n",
       "      <td>0.775438</td>\n",
       "      <td>0.011786</td>\n",
       "      <td>0.687299</td>\n",
       "      <td>0.017500</td>\n",
       "    </tr>\n",
       "  </tbody>\n",
       "</table>\n",
       "</div>"
      ],
      "text/plain": [
       "   train_scores_mean  train_scores_std  test_scores_mean  test_scores_std\n",
       "0           0.757322          0.000000          0.666039         0.034913\n",
       "1           0.752610          0.009395          0.691670         0.053413\n",
       "2           0.770167          0.009401          0.684168         0.035546\n",
       "3           0.780240          0.012586          0.675410         0.032206\n",
       "4           0.775438          0.011786          0.687299         0.017500"
      ]
     },
     "execution_count": 133,
     "metadata": {},
     "output_type": "execute_result"
    },
    {
     "data": {
      "image/png": "[encoded data removed]",
      "text/plain": [
       "<Figure size 432x288 with 1 Axes>"
      ]
     },
     "metadata": {},
     "output_type": "display_data"
    }
   ],
   "source": [
    "clf = make_pipeline(StandardScaler(), KNeighborsClassifier(n_neighbors=15))\n",
    "%time plot_learning_curve_df(df, label, train_frac_arr, clf, y_min=.5, y_max=0.9)['scores']"
   ]
  },
  {
   "cell_type": "code",
   "execution_count": 130,
   "metadata": {},
   "outputs": [
    {
     "data": {
      "text/plain": [
       "(569, 31)"
      ]
     },
     "execution_count": 130,
     "metadata": {},
     "output_type": "execute_result"
    }
   ],
   "source": [
    "df.shape"
   ]
  },
  {
   "cell_type": "code",
   "execution_count": 100,
   "metadata": {},
   "outputs": [
    {
     "name": "stdout",
     "output_type": "stream",
     "text": [
      "CPU times: user 105 ms, sys: 38.2 ms, total: 143 ms\n",
      "Wall time: 222 ms\n"
     ]
    },
    {
     "data": {
      "text/html": [
       "<div>\n",
       "<style scoped>\n",
       "    .dataframe tbody tr th:only-of-type {\n",
       "        vertical-align: middle;\n",
       "    }\n",
       "\n",
       "    .dataframe tbody tr th {\n",
       "        vertical-align: top;\n",
       "    }\n",
       "\n",
       "    .dataframe thead th {\n",
       "        text-align: right;\n",
       "    }\n",
       "</style>\n",
       "<table border=\"1\" class=\"dataframe\">\n",
       "  <thead>\n",
       "    <tr style=\"text-align: right;\">\n",
       "      <th></th>\n",
       "      <th>train_scores_mean</th>\n",
       "      <th>train_scores_std</th>\n",
       "      <th>test_scores_mean</th>\n",
       "      <th>test_scores_std</th>\n",
       "    </tr>\n",
       "  </thead>\n",
       "  <tbody>\n",
       "    <tr>\n",
       "      <th>0</th>\n",
       "      <td>0.906904</td>\n",
       "      <td>0.001812</td>\n",
       "      <td>0.651653</td>\n",
       "      <td>0.046717</td>\n",
       "    </tr>\n",
       "    <tr>\n",
       "      <th>1</th>\n",
       "      <td>0.857516</td>\n",
       "      <td>0.002712</td>\n",
       "      <td>0.633535</td>\n",
       "      <td>0.024449</td>\n",
       "    </tr>\n",
       "    <tr>\n",
       "      <th>2</th>\n",
       "      <td>0.827191</td>\n",
       "      <td>0.015593</td>\n",
       "      <td>0.689831</td>\n",
       "      <td>0.039949</td>\n",
       "    </tr>\n",
       "    <tr>\n",
       "      <th>3</th>\n",
       "      <td>0.808916</td>\n",
       "      <td>0.006444</td>\n",
       "      <td>0.681681</td>\n",
       "      <td>0.020341</td>\n",
       "    </tr>\n",
       "    <tr>\n",
       "      <th>4</th>\n",
       "      <td>0.805671</td>\n",
       "      <td>0.006157</td>\n",
       "      <td>0.699815</td>\n",
       "      <td>0.026601</td>\n",
       "    </tr>\n",
       "  </tbody>\n",
       "</table>\n",
       "</div>"
      ],
      "text/plain": [
       "   train_scores_mean  train_scores_std  test_scores_mean  test_scores_std\n",
       "0           0.906904          0.001812          0.651653         0.046717\n",
       "1           0.857516          0.002712          0.633535         0.024449\n",
       "2           0.827191          0.015593          0.689831         0.039949\n",
       "3           0.808916          0.006444          0.681681         0.020341\n",
       "4           0.805671          0.006157          0.699815         0.026601"
      ]
     },
     "execution_count": 100,
     "metadata": {},
     "output_type": "execute_result"
    },
    {
     "data": {
      "image/png": "[encoded data removed]",
      "text/plain": [
       "<Figure size 432x288 with 1 Axes>"
      ]
     },
     "metadata": {},
     "output_type": "display_data"
    }
   ],
   "source": [
    "clf = make_pipeline(StandardScaler(), DecisionTreeClassifier(max_depth=5))\n",
    "%time plot_learning_curve_df(df, label, train_frac_arr, clf, y_min=0.4, y_max=1)['scores']"
   ]
  },
  {
   "cell_type": "code",
   "execution_count": 173,
   "metadata": {},
   "outputs": [
    {
     "name": "stdout",
     "output_type": "stream",
     "text": [
      "CPU times: user 143 ms, sys: 38.9 ms, total: 182 ms\n",
      "Wall time: 363 ms\n"
     ]
    },
    {
     "data": {
      "text/html": [
       "<div>\n",
       "<style scoped>\n",
       "    .dataframe tbody tr th:only-of-type {\n",
       "        vertical-align: middle;\n",
       "    }\n",
       "\n",
       "    .dataframe tbody tr th {\n",
       "        vertical-align: top;\n",
       "    }\n",
       "\n",
       "    .dataframe thead th {\n",
       "        text-align: right;\n",
       "    }\n",
       "</style>\n",
       "<table border=\"1\" class=\"dataframe\">\n",
       "  <thead>\n",
       "    <tr style=\"text-align: right;\">\n",
       "      <th></th>\n",
       "      <th>train_scores_mean</th>\n",
       "      <th>train_scores_std</th>\n",
       "      <th>test_scores_mean</th>\n",
       "      <th>test_scores_std</th>\n",
       "    </tr>\n",
       "  </thead>\n",
       "  <tbody>\n",
       "    <tr>\n",
       "      <th>0</th>\n",
       "      <td>0.996862</td>\n",
       "      <td>0.001812</td>\n",
       "      <td>0.629749</td>\n",
       "      <td>0.039681</td>\n",
       "    </tr>\n",
       "    <tr>\n",
       "      <th>1</th>\n",
       "      <td>0.981733</td>\n",
       "      <td>0.015925</td>\n",
       "      <td>0.626645</td>\n",
       "      <td>0.009778</td>\n",
       "    </tr>\n",
       "    <tr>\n",
       "      <th>2</th>\n",
       "      <td>0.966620</td>\n",
       "      <td>0.008403</td>\n",
       "      <td>0.649193</td>\n",
       "      <td>0.042770</td>\n",
       "    </tr>\n",
       "    <tr>\n",
       "      <th>3</th>\n",
       "      <td>0.950730</td>\n",
       "      <td>0.000865</td>\n",
       "      <td>0.639168</td>\n",
       "      <td>0.025085</td>\n",
       "    </tr>\n",
       "    <tr>\n",
       "      <th>4</th>\n",
       "      <td>0.951209</td>\n",
       "      <td>0.010882</td>\n",
       "      <td>0.646678</td>\n",
       "      <td>0.030444</td>\n",
       "    </tr>\n",
       "  </tbody>\n",
       "</table>\n",
       "</div>"
      ],
      "text/plain": [
       "   train_scores_mean  train_scores_std  test_scores_mean  test_scores_std\n",
       "0           0.996862          0.001812          0.629749         0.039681\n",
       "1           0.981733          0.015925          0.626645         0.009778\n",
       "2           0.966620          0.008403          0.649193         0.042770\n",
       "3           0.950730          0.000865          0.639168         0.025085\n",
       "4           0.951209          0.010882          0.646678         0.030444"
      ]
     },
     "execution_count": 173,
     "metadata": {},
     "output_type": "execute_result"
    },
    {
     "data": {
      "image/png": "[encoded data removed]",
      "text/plain": [
       "<Figure size 432x288 with 1 Axes>"
      ]
     },
     "metadata": {},
     "output_type": "display_data"
    }
   ],
   "source": [
    "clf = make_pipeline(StandardScaler(), DecisionTreeClassifier(max_depth=10))\n",
    "%time plot_learning_curve_df(df, label, train_frac_arr, clf, y_min=0.4, y_max=1)['scores']"
   ]
  },
  {
   "cell_type": "code",
   "execution_count": 76,
   "metadata": {},
   "outputs": [
    {
     "data": {
      "text/html": [
       "<div>\n",
       "<style scoped>\n",
       "    .dataframe tbody tr th:only-of-type {\n",
       "        vertical-align: middle;\n",
       "    }\n",
       "\n",
       "    .dataframe tbody tr th {\n",
       "        vertical-align: top;\n",
       "    }\n",
       "\n",
       "    .dataframe thead th {\n",
       "        text-align: right;\n",
       "    }\n",
       "</style>\n",
       "<table border=\"1\" class=\"dataframe\">\n",
       "  <thead>\n",
       "    <tr style=\"text-align: right;\">\n",
       "      <th></th>\n",
       "      <th>train_scores_mean</th>\n",
       "      <th>train_scores_std</th>\n",
       "      <th>test_scores_mean</th>\n",
       "      <th>test_scores_std</th>\n",
       "    </tr>\n",
       "  </thead>\n",
       "  <tbody>\n",
       "    <tr>\n",
       "      <th>0</th>\n",
       "      <td>0.926777</td>\n",
       "      <td>0.004432</td>\n",
       "      <td>0.896348</td>\n",
       "      <td>0.013148</td>\n",
       "    </tr>\n",
       "    <tr>\n",
       "      <th>1</th>\n",
       "      <td>0.952554</td>\n",
       "      <td>0.007446</td>\n",
       "      <td>0.917438</td>\n",
       "      <td>0.030306</td>\n",
       "    </tr>\n",
       "    <tr>\n",
       "      <th>2</th>\n",
       "      <td>0.971879</td>\n",
       "      <td>0.002360</td>\n",
       "      <td>0.933259</td>\n",
       "      <td>0.024990</td>\n",
       "    </tr>\n",
       "    <tr>\n",
       "      <th>3</th>\n",
       "      <td>0.989454</td>\n",
       "      <td>0.002621</td>\n",
       "      <td>0.924480</td>\n",
       "      <td>0.026785</td>\n",
       "    </tr>\n",
       "    <tr>\n",
       "      <th>4</th>\n",
       "      <td>0.993556</td>\n",
       "      <td>0.002553</td>\n",
       "      <td>0.926241</td>\n",
       "      <td>0.028183</td>\n",
       "    </tr>\n",
       "    <tr>\n",
       "      <th>5</th>\n",
       "      <td>0.996486</td>\n",
       "      <td>0.002618</td>\n",
       "      <td>0.926253</td>\n",
       "      <td>0.029832</td>\n",
       "    </tr>\n",
       "    <tr>\n",
       "      <th>6</th>\n",
       "      <td>0.999415</td>\n",
       "      <td>0.001014</td>\n",
       "      <td>0.926216</td>\n",
       "      <td>0.022423</td>\n",
       "    </tr>\n",
       "    <tr>\n",
       "      <th>7</th>\n",
       "      <td>0.999415</td>\n",
       "      <td>0.001014</td>\n",
       "      <td>0.913929</td>\n",
       "      <td>0.026331</td>\n",
       "    </tr>\n",
       "    <tr>\n",
       "      <th>8</th>\n",
       "      <td>1.000000</td>\n",
       "      <td>0.000000</td>\n",
       "      <td>0.922732</td>\n",
       "      <td>0.026558</td>\n",
       "    </tr>\n",
       "    <tr>\n",
       "      <th>9</th>\n",
       "      <td>1.000000</td>\n",
       "      <td>0.000000</td>\n",
       "      <td>0.915702</td>\n",
       "      <td>0.022497</td>\n",
       "    </tr>\n",
       "  </tbody>\n",
       "</table>\n",
       "</div>"
      ],
      "text/plain": [
       "   train_scores_mean  train_scores_std  test_scores_mean  test_scores_std\n",
       "0           0.926777          0.004432          0.896348         0.013148\n",
       "1           0.952554          0.007446          0.917438         0.030306\n",
       "2           0.971879          0.002360          0.933259         0.024990\n",
       "3           0.989454          0.002621          0.924480         0.026785\n",
       "4           0.993556          0.002553          0.926241         0.028183\n",
       "5           0.996486          0.002618          0.926253         0.029832\n",
       "6           0.999415          0.001014          0.926216         0.022423\n",
       "7           0.999415          0.001014          0.913929         0.026331\n",
       "8           1.000000          0.000000          0.922732         0.026558\n",
       "9           1.000000          0.000000          0.915702         0.022497"
      ]
     },
     "execution_count": 76,
     "metadata": {},
     "output_type": "execute_result"
    },
    {
     "data": {
      "image/png": "[encoded data removed]",
      "text/plain": [
       "<Figure size 432x288 with 1 Axes>"
      ]
     },
     "metadata": {
      "needs_background": "light"
     },
     "output_type": "display_data"
    }
   ],
   "source": [
    "plot_validation_curve_df(df, label, 'max_depth', np.arange(1, 11, 1), DecisionTreeClassifier(), \n",
    "                         y_min=.85, y_max=1)['scores']"
   ]
  },
  {
   "cell_type": "code",
   "execution_count": 121,
   "metadata": {},
   "outputs": [
    {
     "name": "stdout",
     "output_type": "stream",
     "text": [
      "CPU times: user 110 ms, sys: 40.5 ms, total: 151 ms\n",
      "Wall time: 530 ms\n"
     ]
    },
    {
     "data": {
      "text/html": [
       "<div>\n",
       "<style scoped>\n",
       "    .dataframe tbody tr th:only-of-type {\n",
       "        vertical-align: middle;\n",
       "    }\n",
       "\n",
       "    .dataframe tbody tr th {\n",
       "        vertical-align: top;\n",
       "    }\n",
       "\n",
       "    .dataframe thead th {\n",
       "        text-align: right;\n",
       "    }\n",
       "</style>\n",
       "<table border=\"1\" class=\"dataframe\">\n",
       "  <thead>\n",
       "    <tr style=\"text-align: right;\">\n",
       "      <th></th>\n",
       "      <th>train_scores_mean</th>\n",
       "      <th>train_scores_std</th>\n",
       "      <th>test_scores_mean</th>\n",
       "      <th>test_scores_std</th>\n",
       "    </tr>\n",
       "  </thead>\n",
       "  <tbody>\n",
       "    <tr>\n",
       "      <th>0</th>\n",
       "      <td>0.942469</td>\n",
       "      <td>0.003469</td>\n",
       "      <td>0.705423</td>\n",
       "      <td>0.038933</td>\n",
       "    </tr>\n",
       "    <tr>\n",
       "      <th>1</th>\n",
       "      <td>0.885699</td>\n",
       "      <td>0.008001</td>\n",
       "      <td>0.711706</td>\n",
       "      <td>0.043641</td>\n",
       "    </tr>\n",
       "    <tr>\n",
       "      <th>2</th>\n",
       "      <td>0.860570</td>\n",
       "      <td>0.006697</td>\n",
       "      <td>0.722340</td>\n",
       "      <td>0.041935</td>\n",
       "    </tr>\n",
       "    <tr>\n",
       "      <th>3</th>\n",
       "      <td>0.840980</td>\n",
       "      <td>0.012696</td>\n",
       "      <td>0.711096</td>\n",
       "      <td>0.039379</td>\n",
       "    </tr>\n",
       "    <tr>\n",
       "      <th>4</th>\n",
       "      <td>0.826314</td>\n",
       "      <td>0.006196</td>\n",
       "      <td>0.720456</td>\n",
       "      <td>0.034793</td>\n",
       "    </tr>\n",
       "  </tbody>\n",
       "</table>\n",
       "</div>"
      ],
      "text/plain": [
       "   train_scores_mean  train_scores_std  test_scores_mean  test_scores_std\n",
       "0           0.942469          0.003469          0.705423         0.038933\n",
       "1           0.885699          0.008001          0.711706         0.043641\n",
       "2           0.860570          0.006697          0.722340         0.041935\n",
       "3           0.840980          0.012696          0.711096         0.039379\n",
       "4           0.826314          0.006196          0.720456         0.034793"
      ]
     },
     "execution_count": 121,
     "metadata": {},
     "output_type": "execute_result"
    },
    {
     "data": {
      "image/png": "[encoded data removed]",
      "text/plain": [
       "<Figure size 432x288 with 1 Axes>"
      ]
     },
     "metadata": {},
     "output_type": "display_data"
    }
   ],
   "source": [
    "clf = make_pipeline(StandardScaler(), GradientBoostingClassifier(n_estimators=100, max_depth=2))\n",
    "%time plot_learning_curve_df(df, label, train_frac_arr, clf, y_min=.4, y_max=1)['scores']"
   ]
  },
  {
   "cell_type": "code",
   "execution_count": 122,
   "metadata": {},
   "outputs": [
    {
     "name": "stdout",
     "output_type": "stream",
     "text": [
      "CPU times: user 113 ms, sys: 41.1 ms, total: 154 ms\n",
      "Wall time: 1.36 s\n"
     ]
    },
    {
     "data": {
      "text/html": [
       "<div>\n",
       "<style scoped>\n",
       "    .dataframe tbody tr th:only-of-type {\n",
       "        vertical-align: middle;\n",
       "    }\n",
       "\n",
       "    .dataframe tbody tr th {\n",
       "        vertical-align: top;\n",
       "    }\n",
       "\n",
       "    .dataframe thead th {\n",
       "        text-align: right;\n",
       "    }\n",
       "</style>\n",
       "<table border=\"1\" class=\"dataframe\">\n",
       "  <thead>\n",
       "    <tr style=\"text-align: right;\">\n",
       "      <th></th>\n",
       "      <th>train_scores_mean</th>\n",
       "      <th>train_scores_std</th>\n",
       "      <th>test_scores_mean</th>\n",
       "      <th>test_scores_std</th>\n",
       "    </tr>\n",
       "  </thead>\n",
       "  <tbody>\n",
       "    <tr>\n",
       "      <th>0</th>\n",
       "      <td>1.000000</td>\n",
       "      <td>0.000000</td>\n",
       "      <td>0.689815</td>\n",
       "      <td>0.027685</td>\n",
       "    </tr>\n",
       "    <tr>\n",
       "      <th>1</th>\n",
       "      <td>0.998956</td>\n",
       "      <td>0.001808</td>\n",
       "      <td>0.697956</td>\n",
       "      <td>0.042425</td>\n",
       "    </tr>\n",
       "    <tr>\n",
       "      <th>2</th>\n",
       "      <td>0.986439</td>\n",
       "      <td>0.003460</td>\n",
       "      <td>0.704829</td>\n",
       "      <td>0.039034</td>\n",
       "    </tr>\n",
       "    <tr>\n",
       "      <th>3</th>\n",
       "      <td>0.966893</td>\n",
       "      <td>0.007010</td>\n",
       "      <td>0.712336</td>\n",
       "      <td>0.021679</td>\n",
       "    </tr>\n",
       "    <tr>\n",
       "      <th>4</th>\n",
       "      <td>0.950375</td>\n",
       "      <td>0.005672</td>\n",
       "      <td>0.713582</td>\n",
       "      <td>0.041515</td>\n",
       "    </tr>\n",
       "  </tbody>\n",
       "</table>\n",
       "</div>"
      ],
      "text/plain": [
       "   train_scores_mean  train_scores_std  test_scores_mean  test_scores_std\n",
       "0           1.000000          0.000000          0.689815         0.027685\n",
       "1           0.998956          0.001808          0.697956         0.042425\n",
       "2           0.986439          0.003460          0.704829         0.039034\n",
       "3           0.966893          0.007010          0.712336         0.021679\n",
       "4           0.950375          0.005672          0.713582         0.041515"
      ]
     },
     "execution_count": 122,
     "metadata": {},
     "output_type": "execute_result"
    },
    {
     "data": {
      "image/png": "[encoded data removed]",
      "text/plain": [
       "<Figure size 432x288 with 1 Axes>"
      ]
     },
     "metadata": {},
     "output_type": "display_data"
    }
   ],
   "source": [
    "clf = make_pipeline(StandardScaler(), GradientBoostingClassifier(n_estimators=100, max_depth=4))\n",
    "%time plot_learning_curve_df(df, label, train_frac_arr, clf, y_min=.4, y_max=1)['scores']"
   ]
  },
  {
   "cell_type": "code",
   "execution_count": 181,
   "metadata": {},
   "outputs": [
    {
     "data": {
      "text/html": [
       "<div>\n",
       "<style scoped>\n",
       "    .dataframe tbody tr th:only-of-type {\n",
       "        vertical-align: middle;\n",
       "    }\n",
       "\n",
       "    .dataframe tbody tr th {\n",
       "        vertical-align: top;\n",
       "    }\n",
       "\n",
       "    .dataframe thead th {\n",
       "        text-align: right;\n",
       "    }\n",
       "</style>\n",
       "<table border=\"1\" class=\"dataframe\">\n",
       "  <thead>\n",
       "    <tr style=\"text-align: right;\">\n",
       "      <th></th>\n",
       "      <th>train_scores_mean</th>\n",
       "      <th>train_scores_std</th>\n",
       "      <th>test_scores_mean</th>\n",
       "      <th>test_scores_std</th>\n",
       "    </tr>\n",
       "  </thead>\n",
       "  <tbody>\n",
       "    <tr>\n",
       "      <th>0</th>\n",
       "      <td>0.846777</td>\n",
       "      <td>0.008131</td>\n",
       "      <td>0.727956</td>\n",
       "      <td>0.033736</td>\n",
       "    </tr>\n",
       "    <tr>\n",
       "      <th>1</th>\n",
       "      <td>0.887428</td>\n",
       "      <td>0.006427</td>\n",
       "      <td>0.724212</td>\n",
       "      <td>0.041260</td>\n",
       "    </tr>\n",
       "    <tr>\n",
       "      <th>2</th>\n",
       "      <td>0.916614</td>\n",
       "      <td>0.005992</td>\n",
       "      <td>0.721086</td>\n",
       "      <td>0.039482</td>\n",
       "    </tr>\n",
       "    <tr>\n",
       "      <th>3</th>\n",
       "      <td>0.939338</td>\n",
       "      <td>0.005693</td>\n",
       "      <td>0.722961</td>\n",
       "      <td>0.041642</td>\n",
       "    </tr>\n",
       "    <tr>\n",
       "      <th>4</th>\n",
       "      <td>0.958724</td>\n",
       "      <td>0.005295</td>\n",
       "      <td>0.714832</td>\n",
       "      <td>0.034102</td>\n",
       "    </tr>\n",
       "  </tbody>\n",
       "</table>\n",
       "</div>"
      ],
      "text/plain": [
       "   train_scores_mean  train_scores_std  test_scores_mean  test_scores_std\n",
       "0           0.846777          0.008131          0.727956         0.033736\n",
       "1           0.887428          0.006427          0.724212         0.041260\n",
       "2           0.916614          0.005992          0.721086         0.039482\n",
       "3           0.939338          0.005693          0.722961         0.041642\n",
       "4           0.958724          0.005295          0.714832         0.034102"
      ]
     },
     "execution_count": 181,
     "metadata": {},
     "output_type": "execute_result"
    },
    {
     "data": {
      "image/png": "[encoded data removed]",
      "text/plain": [
       "<Figure size 432x288 with 1 Axes>"
      ]
     },
     "metadata": {},
     "output_type": "display_data"
    }
   ],
   "source": [
    "plot_validation_curve_df(df, label, 'n_estimators', np.arange(50, 300, 50), GradientBoostingClassifier(), \n",
    "                         y_min=.6, y_max=1)['scores']"
   ]
  },
  {
   "cell_type": "code",
   "execution_count": 125,
   "metadata": {},
   "outputs": [
    {
     "name": "stdout",
     "output_type": "stream",
     "text": [
      "CPU times: user 121 ms, sys: 42.5 ms, total: 163 ms\n",
      "Wall time: 1.06 s\n"
     ]
    },
    {
     "data": {
      "text/html": [
       "<div>\n",
       "<style scoped>\n",
       "    .dataframe tbody tr th:only-of-type {\n",
       "        vertical-align: middle;\n",
       "    }\n",
       "\n",
       "    .dataframe tbody tr th {\n",
       "        vertical-align: top;\n",
       "    }\n",
       "\n",
       "    .dataframe thead th {\n",
       "        text-align: right;\n",
       "    }\n",
       "</style>\n",
       "<table border=\"1\" class=\"dataframe\">\n",
       "  <thead>\n",
       "    <tr style=\"text-align: right;\">\n",
       "      <th></th>\n",
       "      <th>train_scores_mean</th>\n",
       "      <th>train_scores_std</th>\n",
       "      <th>test_scores_mean</th>\n",
       "      <th>test_scores_std</th>\n",
       "    </tr>\n",
       "  </thead>\n",
       "  <tbody>\n",
       "    <tr>\n",
       "      <th>0</th>\n",
       "      <td>1.000000</td>\n",
       "      <td>0.000000</td>\n",
       "      <td>0.707935</td>\n",
       "      <td>0.039517</td>\n",
       "    </tr>\n",
       "    <tr>\n",
       "      <th>1</th>\n",
       "      <td>0.992693</td>\n",
       "      <td>0.004783</td>\n",
       "      <td>0.693570</td>\n",
       "      <td>0.014402</td>\n",
       "    </tr>\n",
       "    <tr>\n",
       "      <th>2</th>\n",
       "      <td>0.973227</td>\n",
       "      <td>0.002671</td>\n",
       "      <td>0.707956</td>\n",
       "      <td>0.035489</td>\n",
       "    </tr>\n",
       "    <tr>\n",
       "      <th>3</th>\n",
       "      <td>0.954119</td>\n",
       "      <td>0.008662</td>\n",
       "      <td>0.706079</td>\n",
       "      <td>0.031135</td>\n",
       "    </tr>\n",
       "    <tr>\n",
       "      <th>4</th>\n",
       "      <td>0.937239</td>\n",
       "      <td>0.007256</td>\n",
       "      <td>0.721071</td>\n",
       "      <td>0.030478</td>\n",
       "    </tr>\n",
       "  </tbody>\n",
       "</table>\n",
       "</div>"
      ],
      "text/plain": [
       "   train_scores_mean  train_scores_std  test_scores_mean  test_scores_std\n",
       "0           1.000000          0.000000          0.707935         0.039517\n",
       "1           0.992693          0.004783          0.693570         0.014402\n",
       "2           0.973227          0.002671          0.707956         0.035489\n",
       "3           0.954119          0.008662          0.706079         0.031135\n",
       "4           0.937239          0.007256          0.721071         0.030478"
      ]
     },
     "execution_count": 125,
     "metadata": {},
     "output_type": "execute_result"
    },
    {
     "data": {
      "image/png": "[encoded data removed]",
      "text/plain": [
       "<Figure size 432x288 with 1 Axes>"
      ]
     },
     "metadata": {},
     "output_type": "display_data"
    }
   ],
   "source": [
    "clf = make_pipeline(StandardScaler(), GradientBoostingClassifier(n_estimators=100, max_depth=4, max_features='sqrt'))\n",
    "%time plot_learning_curve_df(df, label, train_frac_arr, clf, y_min=.4, y_max=1)['scores']"
   ]
  },
  {
   "cell_type": "code",
   "execution_count": 184,
   "metadata": {},
   "outputs": [
    {
     "name": "stdout",
     "output_type": "stream",
     "text": [
      "CPU times: user 127 ms, sys: 39.9 ms, total: 167 ms\n",
      "Wall time: 591 ms\n"
     ]
    },
    {
     "data": {
      "text/html": [
       "<div>\n",
       "<style scoped>\n",
       "    .dataframe tbody tr th:only-of-type {\n",
       "        vertical-align: middle;\n",
       "    }\n",
       "\n",
       "    .dataframe tbody tr th {\n",
       "        vertical-align: top;\n",
       "    }\n",
       "\n",
       "    .dataframe thead th {\n",
       "        text-align: right;\n",
       "    }\n",
       "</style>\n",
       "<table border=\"1\" class=\"dataframe\">\n",
       "  <thead>\n",
       "    <tr style=\"text-align: right;\">\n",
       "      <th></th>\n",
       "      <th>train_scores_mean</th>\n",
       "      <th>train_scores_std</th>\n",
       "      <th>test_scores_mean</th>\n",
       "      <th>test_scores_std</th>\n",
       "    </tr>\n",
       "  </thead>\n",
       "  <tbody>\n",
       "    <tr>\n",
       "      <th>0</th>\n",
       "      <td>0.789749</td>\n",
       "      <td>0.038047</td>\n",
       "      <td>0.719200</td>\n",
       "      <td>0.052569</td>\n",
       "    </tr>\n",
       "    <tr>\n",
       "      <th>1</th>\n",
       "      <td>0.759916</td>\n",
       "      <td>0.014688</td>\n",
       "      <td>0.723587</td>\n",
       "      <td>0.046058</td>\n",
       "    </tr>\n",
       "    <tr>\n",
       "      <th>2</th>\n",
       "      <td>0.754172</td>\n",
       "      <td>0.009452</td>\n",
       "      <td>0.718589</td>\n",
       "      <td>0.034418</td>\n",
       "    </tr>\n",
       "    <tr>\n",
       "      <th>3</th>\n",
       "      <td>0.749479</td>\n",
       "      <td>0.011875</td>\n",
       "      <td>0.721086</td>\n",
       "      <td>0.031564</td>\n",
       "    </tr>\n",
       "    <tr>\n",
       "      <th>4</th>\n",
       "      <td>0.748540</td>\n",
       "      <td>0.006527</td>\n",
       "      <td>0.727334</td>\n",
       "      <td>0.033968</td>\n",
       "    </tr>\n",
       "  </tbody>\n",
       "</table>\n",
       "</div>"
      ],
      "text/plain": [
       "   train_scores_mean  train_scores_std  test_scores_mean  test_scores_std\n",
       "0           0.789749          0.038047          0.719200         0.052569\n",
       "1           0.759916          0.014688          0.723587         0.046058\n",
       "2           0.754172          0.009452          0.718589         0.034418\n",
       "3           0.749479          0.011875          0.721086         0.031564\n",
       "4           0.748540          0.006527          0.727334         0.033968"
      ]
     },
     "execution_count": 184,
     "metadata": {},
     "output_type": "execute_result"
    },
    {
     "data": {
      "image/png": "[encoded data removed]",
      "text/plain": [
       "<Figure size 432x288 with 1 Axes>"
      ]
     },
     "metadata": {},
     "output_type": "display_data"
    }
   ],
   "source": [
    "clf = make_pipeline(StandardScaler(), SVC(kernel='linear'))\n",
    "%time plot_learning_curve_df(df, label, train_frac_arr, clf, y_min=.6, y_max=.9)['scores']"
   ]
  },
  {
   "cell_type": "code",
   "execution_count": 185,
   "metadata": {},
   "outputs": [
    {
     "name": "stdout",
     "output_type": "stream",
     "text": [
      "CPU times: user 121 ms, sys: 40.2 ms, total: 162 ms\n",
      "Wall time: 449 ms\n"
     ]
    },
    {
     "data": {
      "text/html": [
       "<div>\n",
       "<style scoped>\n",
       "    .dataframe tbody tr th:only-of-type {\n",
       "        vertical-align: middle;\n",
       "    }\n",
       "\n",
       "    .dataframe tbody tr th {\n",
       "        vertical-align: top;\n",
       "    }\n",
       "\n",
       "    .dataframe thead th {\n",
       "        text-align: right;\n",
       "    }\n",
       "</style>\n",
       "<table border=\"1\" class=\"dataframe\">\n",
       "  <thead>\n",
       "    <tr style=\"text-align: right;\">\n",
       "      <th></th>\n",
       "      <th>train_scores_mean</th>\n",
       "      <th>train_scores_std</th>\n",
       "      <th>test_scores_mean</th>\n",
       "      <th>test_scores_std</th>\n",
       "    </tr>\n",
       "  </thead>\n",
       "  <tbody>\n",
       "    <tr>\n",
       "      <th>0</th>\n",
       "      <td>0.816946</td>\n",
       "      <td>0.005435</td>\n",
       "      <td>0.717321</td>\n",
       "      <td>0.051760</td>\n",
       "    </tr>\n",
       "    <tr>\n",
       "      <th>1</th>\n",
       "      <td>0.818894</td>\n",
       "      <td>0.007137</td>\n",
       "      <td>0.723578</td>\n",
       "      <td>0.053192</td>\n",
       "    </tr>\n",
       "    <tr>\n",
       "      <th>2</th>\n",
       "      <td>0.820584</td>\n",
       "      <td>0.008574</td>\n",
       "      <td>0.729209</td>\n",
       "      <td>0.030301</td>\n",
       "    </tr>\n",
       "    <tr>\n",
       "      <th>3</th>\n",
       "      <td>0.813347</td>\n",
       "      <td>0.007663</td>\n",
       "      <td>0.727950</td>\n",
       "      <td>0.030635</td>\n",
       "    </tr>\n",
       "    <tr>\n",
       "      <th>4</th>\n",
       "      <td>0.802752</td>\n",
       "      <td>0.007211</td>\n",
       "      <td>0.722325</td>\n",
       "      <td>0.031737</td>\n",
       "    </tr>\n",
       "  </tbody>\n",
       "</table>\n",
       "</div>"
      ],
      "text/plain": [
       "   train_scores_mean  train_scores_std  test_scores_mean  test_scores_std\n",
       "0           0.816946          0.005435          0.717321         0.051760\n",
       "1           0.818894          0.007137          0.723578         0.053192\n",
       "2           0.820584          0.008574          0.729209         0.030301\n",
       "3           0.813347          0.007663          0.727950         0.030635\n",
       "4           0.802752          0.007211          0.722325         0.031737"
      ]
     },
     "execution_count": 185,
     "metadata": {},
     "output_type": "execute_result"
    },
    {
     "data": {
      "image/png": "[encoded data removed]",
      "text/plain": [
       "<Figure size 432x288 with 1 Axes>"
      ]
     },
     "metadata": {},
     "output_type": "display_data"
    }
   ],
   "source": [
    "clf = make_pipeline(StandardScaler(), SVC(kernel='rbf'))\n",
    "%time plot_learning_curve_df(df, label, train_frac_arr, clf, y_min=.6, y_max=.9)['scores']"
   ]
  },
  {
   "cell_type": "code",
   "execution_count": 27,
   "metadata": {},
   "outputs": [
    {
     "data": {
      "text/html": [
       "<div>\n",
       "<style scoped>\n",
       "    .dataframe tbody tr th:only-of-type {\n",
       "        vertical-align: middle;\n",
       "    }\n",
       "\n",
       "    .dataframe tbody tr th {\n",
       "        vertical-align: top;\n",
       "    }\n",
       "\n",
       "    .dataframe thead th {\n",
       "        text-align: right;\n",
       "    }\n",
       "</style>\n",
       "<table border=\"1\" class=\"dataframe\">\n",
       "  <thead>\n",
       "    <tr style=\"text-align: right;\">\n",
       "      <th></th>\n",
       "      <th>train_scores_mean</th>\n",
       "      <th>train_scores_std</th>\n",
       "      <th>test_scores_mean</th>\n",
       "      <th>test_scores_std</th>\n",
       "    </tr>\n",
       "  </thead>\n",
       "  <tbody>\n",
       "    <tr>\n",
       "      <th>0</th>\n",
       "      <td>0.590362</td>\n",
       "      <td>0.023300</td>\n",
       "      <td>0.582854</td>\n",
       "      <td>0.015325</td>\n",
       "    </tr>\n",
       "    <tr>\n",
       "      <th>1</th>\n",
       "      <td>0.612461</td>\n",
       "      <td>0.014580</td>\n",
       "      <td>0.614721</td>\n",
       "      <td>0.038478</td>\n",
       "    </tr>\n",
       "    <tr>\n",
       "      <th>2</th>\n",
       "      <td>0.624759</td>\n",
       "      <td>0.018457</td>\n",
       "      <td>0.622846</td>\n",
       "      <td>0.045846</td>\n",
       "    </tr>\n",
       "    <tr>\n",
       "      <th>3</th>\n",
       "      <td>0.654781</td>\n",
       "      <td>0.018721</td>\n",
       "      <td>0.631607</td>\n",
       "      <td>0.053404</td>\n",
       "    </tr>\n",
       "    <tr>\n",
       "      <th>4</th>\n",
       "      <td>0.733166</td>\n",
       "      <td>0.014438</td>\n",
       "      <td>0.637257</td>\n",
       "      <td>0.020535</td>\n",
       "    </tr>\n",
       "    <tr>\n",
       "      <th>5</th>\n",
       "      <td>0.869708</td>\n",
       "      <td>0.007528</td>\n",
       "      <td>0.631618</td>\n",
       "      <td>0.025637</td>\n",
       "    </tr>\n",
       "    <tr>\n",
       "      <th>6</th>\n",
       "      <td>0.996665</td>\n",
       "      <td>0.001560</td>\n",
       "      <td>0.572227</td>\n",
       "      <td>0.024773</td>\n",
       "    </tr>\n",
       "  </tbody>\n",
       "</table>\n",
       "</div>"
      ],
      "text/plain": [
       "   train_scores_mean  train_scores_std  test_scores_mean  test_scores_std\n",
       "0           0.590362          0.023300          0.582854         0.015325\n",
       "1           0.612461          0.014580          0.614721         0.038478\n",
       "2           0.624759          0.018457          0.622846         0.045846\n",
       "3           0.654781          0.018721          0.631607         0.053404\n",
       "4           0.733166          0.014438          0.637257         0.020535\n",
       "5           0.869708          0.007528          0.631618         0.025637\n",
       "6           0.996665          0.001560          0.572227         0.024773"
      ]
     },
     "execution_count": 27,
     "metadata": {},
     "output_type": "execute_result"
    },
    {
     "data": {
      "image/png": "[encoded data removed]",
      "text/plain": [
       "<Figure size 432x288 with 1 Axes>"
      ]
     },
     "metadata": {
      "needs_background": "light"
     },
     "output_type": "display_data"
    }
   ],
   "source": [
    "plot_validation_curve_df(df, label, 'gamma', np.logspace(-6, 0, 7), SVC(), \n",
    "                         xlog_scale = True, y_min=.5, y_max=1)['scores']"
   ]
  },
  {
   "cell_type": "code",
   "execution_count": 29,
   "metadata": {},
   "outputs": [
    {
     "name": "stdout",
     "output_type": "stream",
     "text": [
      "CPU times: user 93.1 ms, sys: 6.08 ms, total: 99.1 ms\n",
      "Wall time: 3.43 s\n"
     ]
    },
    {
     "data": {
      "text/html": [
       "<div>\n",
       "<style scoped>\n",
       "    .dataframe tbody tr th:only-of-type {\n",
       "        vertical-align: middle;\n",
       "    }\n",
       "\n",
       "    .dataframe tbody tr th {\n",
       "        vertical-align: top;\n",
       "    }\n",
       "\n",
       "    .dataframe thead th {\n",
       "        text-align: right;\n",
       "    }\n",
       "</style>\n",
       "<table border=\"1\" class=\"dataframe\">\n",
       "  <thead>\n",
       "    <tr style=\"text-align: right;\">\n",
       "      <th></th>\n",
       "      <th>train_scores_mean</th>\n",
       "      <th>train_scores_std</th>\n",
       "      <th>test_scores_mean</th>\n",
       "      <th>test_scores_std</th>\n",
       "    </tr>\n",
       "  </thead>\n",
       "  <tbody>\n",
       "    <tr>\n",
       "      <th>0</th>\n",
       "      <td>0.814854</td>\n",
       "      <td>0.022214</td>\n",
       "      <td>0.720451</td>\n",
       "      <td>0.047867</td>\n",
       "    </tr>\n",
       "    <tr>\n",
       "      <th>1</th>\n",
       "      <td>0.822025</td>\n",
       "      <td>0.007137</td>\n",
       "      <td>0.724195</td>\n",
       "      <td>0.038478</td>\n",
       "    </tr>\n",
       "    <tr>\n",
       "      <th>2</th>\n",
       "      <td>0.810153</td>\n",
       "      <td>0.006919</td>\n",
       "      <td>0.738589</td>\n",
       "      <td>0.031132</td>\n",
       "    </tr>\n",
       "    <tr>\n",
       "      <th>3</th>\n",
       "      <td>0.807091</td>\n",
       "      <td>0.007768</td>\n",
       "      <td>0.730459</td>\n",
       "      <td>0.031222</td>\n",
       "    </tr>\n",
       "    <tr>\n",
       "      <th>4</th>\n",
       "      <td>0.803795</td>\n",
       "      <td>0.008834</td>\n",
       "      <td>0.728581</td>\n",
       "      <td>0.036288</td>\n",
       "    </tr>\n",
       "  </tbody>\n",
       "</table>\n",
       "</div>"
      ],
      "text/plain": [
       "   train_scores_mean  train_scores_std  test_scores_mean  test_scores_std\n",
       "0           0.814854          0.022214          0.720451         0.047867\n",
       "1           0.822025          0.007137          0.724195         0.038478\n",
       "2           0.810153          0.006919          0.738589         0.031132\n",
       "3           0.807091          0.007768          0.730459         0.031222\n",
       "4           0.803795          0.008834          0.728581         0.036288"
      ]
     },
     "execution_count": 29,
     "metadata": {},
     "output_type": "execute_result"
    },
    {
     "data": {
      "image/png": "[encoded data removed]",
      "text/plain": [
       "<Figure size 432x288 with 1 Axes>"
      ]
     },
     "metadata": {
      "needs_background": "light"
     },
     "output_type": "display_data"
    }
   ],
   "source": [
    "clf = make_pipeline(StandardScaler(), MLPClassifier(hidden_layer_sizes=(50,)))\n",
    "%time plot_learning_curve_df(df, label, train_frac_arr, clf, y_min=.6, y_max=1)['scores']"
   ]
  },
  {
   "cell_type": "code",
   "execution_count": 51,
   "metadata": {},
   "outputs": [
    {
     "name": "stdout",
     "output_type": "stream",
     "text": [
      "CPU times: user 99.9 ms, sys: 5.67 ms, total: 106 ms\n",
      "Wall time: 3.48 s\n"
     ]
    },
    {
     "data": {
      "text/html": [
       "<div>\n",
       "<style scoped>\n",
       "    .dataframe tbody tr th:only-of-type {\n",
       "        vertical-align: middle;\n",
       "    }\n",
       "\n",
       "    .dataframe tbody tr th {\n",
       "        vertical-align: top;\n",
       "    }\n",
       "\n",
       "    .dataframe thead th {\n",
       "        text-align: right;\n",
       "    }\n",
       "</style>\n",
       "<table border=\"1\" class=\"dataframe\">\n",
       "  <thead>\n",
       "    <tr style=\"text-align: right;\">\n",
       "      <th></th>\n",
       "      <th>train_scores_mean</th>\n",
       "      <th>train_scores_std</th>\n",
       "      <th>test_scores_mean</th>\n",
       "      <th>test_scores_std</th>\n",
       "    </tr>\n",
       "  </thead>\n",
       "  <tbody>\n",
       "    <tr>\n",
       "      <th>0</th>\n",
       "      <td>0.842050</td>\n",
       "      <td>0.011601</td>\n",
       "      <td>0.717924</td>\n",
       "      <td>0.053394</td>\n",
       "    </tr>\n",
       "    <tr>\n",
       "      <th>1</th>\n",
       "      <td>0.835073</td>\n",
       "      <td>0.005114</td>\n",
       "      <td>0.704815</td>\n",
       "      <td>0.041797</td>\n",
       "    </tr>\n",
       "    <tr>\n",
       "      <th>2</th>\n",
       "      <td>0.851182</td>\n",
       "      <td>0.016010</td>\n",
       "      <td>0.716700</td>\n",
       "      <td>0.028397</td>\n",
       "    </tr>\n",
       "    <tr>\n",
       "      <th>3</th>\n",
       "      <td>0.840459</td>\n",
       "      <td>0.009698</td>\n",
       "      <td>0.698564</td>\n",
       "      <td>0.028123</td>\n",
       "    </tr>\n",
       "    <tr>\n",
       "      <th>4</th>\n",
       "      <td>0.830901</td>\n",
       "      <td>0.014522</td>\n",
       "      <td>0.710450</td>\n",
       "      <td>0.036459</td>\n",
       "    </tr>\n",
       "  </tbody>\n",
       "</table>\n",
       "</div>"
      ],
      "text/plain": [
       "   train_scores_mean  train_scores_std  test_scores_mean  test_scores_std\n",
       "0           0.842050          0.011601          0.717924         0.053394\n",
       "1           0.835073          0.005114          0.704815         0.041797\n",
       "2           0.851182          0.016010          0.716700         0.028397\n",
       "3           0.840459          0.009698          0.698564         0.028123\n",
       "4           0.830901          0.014522          0.710450         0.036459"
      ]
     },
     "execution_count": 51,
     "metadata": {},
     "output_type": "execute_result"
    },
    {
     "data": {
      "image/png": "[encoded data removed]",
      "text/plain": [
       "<Figure size 432x288 with 1 Axes>"
      ]
     },
     "metadata": {
      "needs_background": "light"
     },
     "output_type": "display_data"
    }
   ],
   "source": [
    "clf = make_pipeline(StandardScaler(), MLPClassifier(hidden_layer_sizes=(20, 20)))\n",
    "%time plot_learning_curve_df(df, label, train_frac_arr, clf, y_min=.6, y_max=1)['scores']"
   ]
  },
  {
   "cell_type": "code",
   "execution_count": 44,
   "metadata": {},
   "outputs": [],
   "source": [
    "clf = make_pipeline(StandardScaler(), MLPClassifier(hidden_layer_sizes=(20, 1)))"
   ]
  },
  {
   "cell_type": "code",
   "execution_count": null,
   "metadata": {},
   "outputs": [],
   "source": [
    "activation : {‘identity’, ‘logistic’, ‘tanh’, ‘relu’}, default ‘relu’"
   ]
  },
  {
   "cell_type": "code",
   "execution_count": 60,
   "metadata": {},
   "outputs": [
    {
     "data": {
      "text/html": [
       "<div>\n",
       "<style scoped>\n",
       "    .dataframe tbody tr th:only-of-type {\n",
       "        vertical-align: middle;\n",
       "    }\n",
       "\n",
       "    .dataframe tbody tr th {\n",
       "        vertical-align: top;\n",
       "    }\n",
       "\n",
       "    .dataframe thead th {\n",
       "        text-align: right;\n",
       "    }\n",
       "</style>\n",
       "<table border=\"1\" class=\"dataframe\">\n",
       "  <thead>\n",
       "    <tr style=\"text-align: right;\">\n",
       "      <th></th>\n",
       "      <th>train_scores_mean</th>\n",
       "      <th>train_scores_std</th>\n",
       "      <th>test_scores_mean</th>\n",
       "      <th>test_scores_std</th>\n",
       "    </tr>\n",
       "  </thead>\n",
       "  <tbody>\n",
       "    <tr>\n",
       "      <th>0</th>\n",
       "      <td>0.933805</td>\n",
       "      <td>0.006465</td>\n",
       "      <td>0.920922</td>\n",
       "      <td>0.013468</td>\n",
       "    </tr>\n",
       "    <tr>\n",
       "      <th>1</th>\n",
       "      <td>0.928534</td>\n",
       "      <td>0.005309</td>\n",
       "      <td>0.913856</td>\n",
       "      <td>0.023638</td>\n",
       "    </tr>\n",
       "    <tr>\n",
       "      <th>2</th>\n",
       "      <td>0.928533</td>\n",
       "      <td>0.011513</td>\n",
       "      <td>0.906850</td>\n",
       "      <td>0.029207</td>\n",
       "    </tr>\n",
       "  </tbody>\n",
       "</table>\n",
       "</div>"
      ],
      "text/plain": [
       "   train_scores_mean  train_scores_std  test_scores_mean  test_scores_std\n",
       "0           0.933805          0.006465          0.920922         0.013468\n",
       "1           0.928534          0.005309          0.913856         0.023638\n",
       "2           0.928533          0.011513          0.906850         0.029207"
      ]
     },
     "execution_count": 60,
     "metadata": {},
     "output_type": "execute_result"
    },
    {
     "data": {
      "image/png": "[encoded data removed]",
      "text/plain": [
       "<Figure size 432x288 with 1 Axes>"
      ]
     },
     "metadata": {
      "needs_background": "light"
     },
     "output_type": "display_data"
    }
   ],
   "source": [
    "plot_validation_curve_df(df, label, 'activation', ['logistic', 'tanh', 'relu'], MLPClassifier(), \n",
    "                            y_min=.85, y_max=1)['scores']"
   ]
  },
  {
   "cell_type": "code",
   "execution_count": 42,
   "metadata": {},
   "outputs": [
    {
     "name": "stdout",
     "output_type": "stream",
     "text": [
      "def validation_curve(estimator, X, y, param_name, param_range, groups=None,\n",
      "                     cv='warn', scoring=None, n_jobs=None, pre_dispatch=\"all\",\n",
      "                     verbose=0, error_score='raise-deprecating'):\n",
      "    \"\"\"Validation curve.\n",
      "\n",
      "    Determine training and test scores for varying parameter values.\n",
      "\n",
      "    Compute scores for an estimator with different values of a specified\n",
      "    parameter. This is similar to grid search with one parameter. However, this\n",
      "    will also compute training scores and is merely a utility for plotting the\n",
      "    results.\n",
      "\n",
      "    Read more in the :ref:`User Guide <learning_curve>`.\n",
      "\n",
      "    Parameters\n",
      "    ----------\n",
      "    estimator : object type that implements the \"fit\" and \"predict\" methods\n",
      "        An object of that type which is cloned for each validation.\n",
      "\n",
      "    X : array-like, shape (n_samples, n_features)\n",
      "        Training vector, where n_samples is the number of samples and\n",
      "        n_features is the number of features.\n",
      "\n",
      "    y : array-like, shape (n_samples) or (n_samples, n_features), optional\n",
      "        Target relative to X for classification or regression;\n",
      "        None for unsupervised learning.\n",
      "\n",
      "    param_name : string\n",
      "        Name of the parameter that will be varied.\n",
      "\n",
      "    param_range : array-like, shape (n_values,)\n",
      "        The values of the parameter that will be evaluated.\n",
      "\n",
      "    groups : array-like, with shape (n_samples,), optional\n",
      "        Group labels for the samples used while splitting the dataset into\n",
      "        train/test set.\n",
      "\n",
      "    cv : int, cross-validation generator or an iterable, optional\n",
      "        Determines the cross-validation splitting strategy.\n",
      "        Possible inputs for cv are:\n",
      "\n",
      "        - None, to use the default 3-fold cross validation,\n",
      "        - integer, to specify the number of folds in a `(Stratified)KFold`,\n",
      "        - :term:`CV splitter`,\n",
      "        - An iterable yielding (train, test) splits as arrays of indices.\n",
      "\n",
      "        For integer/None inputs, if the estimator is a classifier and ``y`` is\n",
      "        either binary or multiclass, :class:`StratifiedKFold` is used. In all\n",
      "        other cases, :class:`KFold` is used.\n",
      "\n",
      "        Refer :ref:`User Guide <cross_validation>` for the various\n",
      "        cross-validation strategies that can be used here.\n",
      "\n",
      "        .. versionchanged:: 0.20\n",
      "            ``cv`` default value if None will change from 3-fold to 5-fold\n",
      "            in v0.22.\n",
      "\n",
      "    scoring : string, callable or None, optional, default: None\n",
      "        A string (see model evaluation documentation) or\n",
      "        a scorer callable object / function with signature\n",
      "        ``scorer(estimator, X, y)``.\n",
      "\n",
      "    n_jobs : int or None, optional (default=None)\n",
      "        Number of jobs to run in parallel.\n",
      "        ``None`` means 1 unless in a :obj:`joblib.parallel_backend` context.\n",
      "        ``-1`` means using all processors. See :term:`Glossary <n_jobs>`\n",
      "        for more details.\n",
      "\n",
      "    pre_dispatch : integer or string, optional\n",
      "        Number of predispatched jobs for parallel execution (default is\n",
      "        all). The option can reduce the allocated memory. The string can\n",
      "        be an expression like '2*n_jobs'.\n",
      "\n",
      "    verbose : integer, optional\n",
      "        Controls the verbosity: the higher, the more messages.\n",
      "\n",
      "    error_score : 'raise' | 'raise-deprecating' or numeric\n",
      "        Value to assign to the score if an error occurs in estimator fitting.\n",
      "        If set to 'raise', the error is raised.\n",
      "        If set to 'raise-deprecating', a FutureWarning is printed before the\n",
      "        error is raised.\n",
      "        If a numeric value is given, FitFailedWarning is raised. This parameter\n",
      "        does not affect the refit step, which will always raise the error.\n",
      "        Default is 'raise-deprecating' but from version 0.22 it will change\n",
      "        to np.nan.\n",
      "\n",
      "    Returns\n",
      "    -------\n",
      "    train_scores : array, shape (n_ticks, n_cv_folds)\n",
      "        Scores on training sets.\n",
      "\n",
      "    test_scores : array, shape (n_ticks, n_cv_folds)\n",
      "        Scores on test set.\n",
      "\n",
      "    Notes\n",
      "    -----\n",
      "    See :ref:`sphx_glr_auto_examples_model_selection_plot_validation_curve.py`\n",
      "\n",
      "    \"\"\"\n",
      "    X, y, groups = indexable(X, y, groups)\n",
      "\n",
      "    cv = check_cv(cv, y, classifier=is_classifier(estimator))\n",
      "    scorer = check_scoring(estimator, scoring=scoring)\n",
      "\n",
      "    parallel = Parallel(n_jobs=n_jobs, pre_dispatch=pre_dispatch,\n",
      "                        verbose=verbose)\n",
      "    out = parallel(delayed(_fit_and_score)(\n",
      "        clone(estimator), X, y, scorer, train, test, verbose,\n",
      "        parameters={param_name: v}, fit_params=None, return_train_score=True,\n",
      "        error_score=error_score)\n",
      "        # NOTE do not change order of iteration to allow one time cv splitters\n",
      "        for train, test in cv.split(X, y, groups) for v in param_range)\n",
      "    out = np.asarray(out)\n",
      "    n_params = len(param_range)\n",
      "    n_cv_folds = out.shape[0] // n_params\n",
      "    out = out.reshape(n_cv_folds, n_params, 2).transpose((2, 1, 0))\n",
      "\n",
      "    return out[0], out[1]\n",
      "\n"
     ]
    }
   ],
   "source": [
    "print(inspect.getsource(validation_curve))"
   ]
  }
 ],
 "metadata": {
  "kernelspec": {
   "display_name": "Python 3",
   "language": "python",
   "name": "python36"
  },
  "language_info": {
   "codemirror_mode": {
    "name": "ipython",
    "version": 3
   },
   "file_extension": ".py",
   "mimetype": "text/x-python",
   "name": "python",
   "nbconvert_exporter": "python",
   "pygments_lexer": "ipython3",
   "version": "3.6.8"
  }
 },
 "nbformat": 4,
 "nbformat_minor": 2
}
