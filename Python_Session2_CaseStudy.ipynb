{
 "cells": [
  {
   "cell_type": "markdown",
   "metadata": {},
   "source": [
    "# Case Study Using Pandas and PyCBA to Analyse a Business Problem"
   ]
  },
  {
   "cell_type": "markdown",
   "metadata": {},
   "source": [
    "**Business Problem Statement:** How has allocated Branch POC mix changed from 1 Jan to 30 June, and what is the distribution of scores that were allocated?"
   ]
  },
  {
   "cell_type": "markdown",
   "metadata": {},
   "source": [
    "Pre-Requisite - Requires active kerberos, ie kinit\n",
    "\n",
    "Overall Flow:\n",
    "* Import Packages\n",
    "* Obtain Data Using PyCBA\n",
    "    * Allocator historical data from OMNIA\n",
    "    * Operational numbers from the Lab in GDW\n",
    "* Clean, Join & Process Data Using Pandas\n",
    "* Summarising Data into Insights Using Pandas"
   ]
  },
  {
   "cell_type": "markdown",
   "metadata": {},
   "source": [
    "## Importing Packages"
   ]
  },
  {
   "cell_type": "code",
   "execution_count": 2,
   "metadata": {},
   "outputs": [
    {
     "name": "stdout",
     "output_type": "stream",
     "text": [
      "Looking in indexes: https://artifactory.ai.cba/artifactory/api/pypi/pypi/simple, https://artifactory.ai.cba/artifactory/api/pypi/python-zbi/simple\n",
      "Requirement already satisfied: plotly in /home/chonghsi/.local/lib/python3.6/site-packages (3.1.0)\n",
      "Requirement already satisfied: retrying>=1.3.3 in /home/chonghsi/.local/lib/python3.6/site-packages (from plotly) (1.3.3)\n",
      "Requirement already satisfied: pytz in /opt/conda/lib/python3.6/site-packages (from plotly) (2018.4)\n",
      "Requirement already satisfied: requests in /opt/conda/lib/python3.6/site-packages (from plotly) (2.18.4)\n",
      "Requirement already satisfied: six in /opt/conda/lib/python3.6/site-packages (from plotly) (1.11.0)\n",
      "Requirement already satisfied: nbformat>=4.2 in /opt/conda/lib/python3.6/site-packages (from plotly) (4.4.0)\n",
      "Requirement already satisfied: decorator>=4.0.6 in /opt/conda/lib/python3.6/site-packages (from plotly) (4.3.0)\n",
      "Requirement already satisfied: chardet<3.1.0,>=3.0.2 in /opt/conda/lib/python3.6/site-packages (from requests->plotly) (3.0.4)\n",
      "Requirement already satisfied: idna<2.7,>=2.5 in /opt/conda/lib/python3.6/site-packages (from requests->plotly) (2.6)\n",
      "Requirement already satisfied: urllib3<1.23,>=1.21.1 in /opt/conda/lib/python3.6/site-packages (from requests->plotly) (1.22)\n",
      "Requirement already satisfied: certifi>=2017.4.17 in /opt/conda/lib/python3.6/site-packages (from requests->plotly) (2018.4.16)\n",
      "Requirement already satisfied: ipython_genutils in /opt/conda/lib/python3.6/site-packages (from nbformat>=4.2->plotly) (0.2.0)\n",
      "Requirement already satisfied: traitlets>=4.1 in /opt/conda/lib/python3.6/site-packages (from nbformat>=4.2->plotly) (4.3.2)\n",
      "Requirement already satisfied: jsonschema!=2.5.0,>=2.4 in /opt/conda/lib/python3.6/site-packages (from nbformat>=4.2->plotly) (2.6.0)\n",
      "Requirement already satisfied: jupyter_core in /opt/conda/lib/python3.6/site-packages (from nbformat>=4.2->plotly) (4.4.0)\n",
      "\u001b[31mjupyterhub 0.9.2 has requirement tornado>=5.0, but you'll have tornado 4.4.2 which is incompatible.\u001b[0m\n",
      "\u001b[31mdistributed 1.21.8 has requirement tornado>=4.5.1, but you'll have tornado 4.4.2 which is incompatible.\u001b[0m\n",
      "Looking in indexes: https://artifactory.ai.cba/artifactory/api/pypi/pypi/simple, https://artifactory.ai.cba/artifactory/api/pypi/python-zbi/simple\n",
      "Requirement already satisfied: pycba in /opt/conda/lib/python3.6/site-packages (2.1.2)\n",
      "Requirement already satisfied: pandas>=0.20.2 in /opt/conda/lib/python3.6/site-packages (from pycba) (0.23.0)\n",
      "Requirement already satisfied: pyhive>=0.5 in /opt/conda/lib/python3.6/site-packages (from pycba) (0.6.1)\n",
      "Requirement already satisfied: py4j>=0.10.1 in /home/chonghsi/.local/lib/python3.6/site-packages (from pycba) (0.10.1)\n",
      "Requirement already satisfied: sasl>=0.2.1 in /opt/conda/lib/python3.6/site-packages (from pycba) (0.2.1)\n",
      "Requirement already satisfied: pexpect>=4.2.1 in /opt/conda/lib/python3.6/site-packages (from pycba) (4.5.0)\n",
      "Requirement already satisfied: pytest-runner>=2.9 in /opt/conda/lib/python3.6/site-packages (from pycba) (4.2)\n",
      "Requirement already satisfied: thrift-sasl>=0.3.0 in /opt/conda/lib/python3.6/site-packages (from pycba) (0.3.0)\n",
      "Requirement already satisfied: python-dateutil>=2.5.0 in /opt/conda/lib/python3.6/site-packages (from pandas>=0.20.2->pycba) (2.7.3)\n",
      "Requirement already satisfied: pytz>=2011k in /opt/conda/lib/python3.6/site-packages (from pandas>=0.20.2->pycba) (2018.4)\n",
      "Requirement already satisfied: numpy>=1.9.0 in /opt/conda/lib/python3.6/site-packages (from pandas>=0.20.2->pycba) (1.14.3)\n",
      "Requirement already satisfied: future in /opt/conda/lib/python3.6/site-packages (from pyhive>=0.5->pycba) (0.17.1)\n",
      "Requirement already satisfied: six in /opt/conda/lib/python3.6/site-packages (from sasl>=0.2.1->pycba) (1.11.0)\n",
      "Requirement already satisfied: ptyprocess>=0.5 in /opt/conda/lib/python3.6/site-packages (from pexpect>=4.2.1->pycba) (0.5.2)\n",
      "Requirement already satisfied: thrift>=0.10.0 in /opt/conda/lib/python3.6/site-packages (from thrift-sasl>=0.3.0->pycba) (0.11.0)\n",
      "\u001b[31mjupyterhub 0.9.2 has requirement tornado>=5.0, but you'll have tornado 4.4.2 which is incompatible.\u001b[0m\n",
      "\u001b[31mdistributed 1.21.8 has requirement tornado>=4.5.1, but you'll have tornado 4.4.2 which is incompatible.\u001b[0m\n",
      "Looking in indexes: https://artifactory.ai.cba/artifactory/api/pypi/pypi/simple, https://artifactory.ai.cba/artifactory/api/pypi/python-zbi/simple\n",
      "Collecting getpass\n",
      "\u001b[31m  Could not find a version that satisfies the requirement getpass (from versions: )\u001b[0m\n",
      "\u001b[31mNo matching distribution found for getpass\u001b[0m\n"
     ]
    }
   ],
   "source": [
    "!pip install --user plotly\n",
    "!pip install --user pycba\n",
    "!pip install --user getpass"
   ]
  },
  {
   "cell_type": "code",
   "execution_count": 3,
   "metadata": {},
   "outputs": [
    {
     "name": "stdout",
     "output_type": "stream",
     "text": [
      "Looking in indexes: https://artifactory.ai.cba/artifactory/api/pypi/pypi/simple, https://artifactory.ai.cba/artifactory/api/pypi/python-zbi/simple\n",
      "Collecting fbprophet\n",
      "  Downloading https://artifactory.ai.cba/artifactory/api/pypi/pypi/packages/83/a1/a39be1675a62597e4c0d4fdaeb65b14752b8aa8afc92e90edd91614353ab/fbprophet-0.3.post2.tar.gz\n",
      "Requirement already satisfied: Cython>=0.22 in /opt/conda/lib/python3.6/site-packages (from fbprophet) (0.28.2)\n",
      "Collecting pystan>=2.14 (from fbprophet)\n",
      "\u001b[?25l  Downloading https://artifactory.ai.cba/artifactory/api/pypi/pypi/packages/49/f9/106f3db81cf4da1be937a11b63f400d072718662f3fd1349ea7f0458aa0f/pystan-2.18.0.0-cp36-cp36m-manylinux1_x86_64.whl (50.0MB)\n",
      "\u001b[K    100% |████████████████████████████████| 50.0MB 90.9MB/s \n",
      "\u001b[?25hRequirement already satisfied: numpy>=1.10.0 in /opt/conda/lib/python3.6/site-packages (from fbprophet) (1.14.3)\n",
      "Requirement already satisfied: pandas>=0.20.1 in /opt/conda/lib/python3.6/site-packages (from fbprophet) (0.23.0)\n",
      "Requirement already satisfied: matplotlib>=2.0.0 in /opt/conda/lib/python3.6/site-packages (from fbprophet) (2.2.2)\n",
      "Requirement already satisfied: python-dateutil>=2.5.0 in /opt/conda/lib/python3.6/site-packages (from pandas>=0.20.1->fbprophet) (2.7.3)\n",
      "Requirement already satisfied: pytz>=2011k in /opt/conda/lib/python3.6/site-packages (from pandas>=0.20.1->fbprophet) (2018.4)\n",
      "Requirement already satisfied: cycler>=0.10 in /opt/conda/lib/python3.6/site-packages (from matplotlib>=2.0.0->fbprophet) (0.10.0)\n",
      "Requirement already satisfied: pyparsing!=2.0.4,!=2.1.2,!=2.1.6,>=2.0.1 in /opt/conda/lib/python3.6/site-packages (from matplotlib>=2.0.0->fbprophet) (2.2.0)\n",
      "Requirement already satisfied: six>=1.10 in /opt/conda/lib/python3.6/site-packages (from matplotlib>=2.0.0->fbprophet) (1.11.0)\n",
      "Requirement already satisfied: kiwisolver>=1.0.1 in /opt/conda/lib/python3.6/site-packages (from matplotlib>=2.0.0->fbprophet) (1.0.1)\n",
      "Requirement already satisfied: setuptools in /opt/conda/lib/python3.6/site-packages (from kiwisolver>=1.0.1->matplotlib>=2.0.0->fbprophet) (39.1.0)\n",
      "Building wheels for collected packages: fbprophet\n",
      "  Running setup.py bdist_wheel for fbprophet ... \u001b[?25lerror\n",
      "  Complete output from command /opt/conda/bin/python -u -c \"import setuptools, tokenize;__file__='/tmp/pip-install-r8ef5eaa/fbprophet/setup.py';f=getattr(tokenize, 'open', open)(__file__);code=f.read().replace('\\r\\n', '\\n');f.close();exec(compile(code, __file__, 'exec'))\" bdist_wheel -d /tmp/pip-wheel-mi82c2oe --python-tag cp36:\n",
      "  running bdist_wheel\n",
      "  running build\n",
      "  running build_py\n",
      "  creating build\n",
      "  creating build/lib\n",
      "  creating build/lib/fbprophet\n",
      "  creating build/lib/fbprophet/stan_model\n",
      "  Traceback (most recent call last):\n",
      "    File \"<string>\", line 1, in <module>\n",
      "    File \"/tmp/pip-install-r8ef5eaa/fbprophet/setup.py\", line 123, in <module>\n",
      "      \"\"\"\n",
      "    File \"/opt/conda/lib/python3.6/site-packages/setuptools/__init__.py\", line 129, in setup\n",
      "      return distutils.core.setup(**attrs)\n",
      "    File \"/opt/conda/lib/python3.6/distutils/core.py\", line 148, in setup\n",
      "      dist.run_commands()\n",
      "    File \"/opt/conda/lib/python3.6/distutils/dist.py\", line 955, in run_commands\n",
      "      self.run_command(cmd)\n",
      "    File \"/opt/conda/lib/python3.6/distutils/dist.py\", line 974, in run_command\n",
      "      cmd_obj.run()\n",
      "    File \"/opt/conda/lib/python3.6/site-packages/wheel/bdist_wheel.py\", line 202, in run\n",
      "      self.run_command('build')\n",
      "    File \"/opt/conda/lib/python3.6/distutils/cmd.py\", line 313, in run_command\n",
      "      self.distribution.run_command(command)\n",
      "    File \"/opt/conda/lib/python3.6/distutils/dist.py\", line 974, in run_command\n",
      "      cmd_obj.run()\n",
      "    File \"/opt/conda/lib/python3.6/distutils/command/build.py\", line 135, in run\n",
      "      self.run_command(cmd_name)\n",
      "    File \"/opt/conda/lib/python3.6/distutils/cmd.py\", line 313, in run_command\n",
      "      self.distribution.run_command(command)\n",
      "    File \"/opt/conda/lib/python3.6/distutils/dist.py\", line 974, in run_command\n",
      "      cmd_obj.run()\n",
      "    File \"/tmp/pip-install-r8ef5eaa/fbprophet/setup.py\", line 45, in run\n",
      "      build_stan_model(target_dir)\n",
      "    File \"/tmp/pip-install-r8ef5eaa/fbprophet/setup.py\", line 28, in build_stan_model\n",
      "      from pystan import StanModel\n",
      "  ModuleNotFoundError: No module named 'pystan'\n",
      "  \n",
      "  ----------------------------------------\n",
      "\u001b[31m  Failed building wheel for fbprophet\u001b[0m\n",
      "\u001b[?25h  Running setup.py clean for fbprophet\n",
      "Failed to build fbprophet\n",
      "\u001b[31mjupyterhub 0.9.2 has requirement tornado>=5.0, but you'll have tornado 4.4.2 which is incompatible.\u001b[0m\n",
      "\u001b[31mdistributed 1.21.8 has requirement tornado>=4.5.1, but you'll have tornado 4.4.2 which is incompatible.\u001b[0m\n",
      "Installing collected packages: pystan, fbprophet\n",
      "  Running setup.py install for fbprophet ... \u001b[?25ldone\n",
      "\u001b[?25hSuccessfully installed fbprophet-0.3.post2 pystan-2.18.0.0\n"
     ]
    }
   ],
   "source": [
    "!pip install --user fbprophet"
   ]
  },
  {
   "cell_type": "code",
   "execution_count": 1,
   "metadata": {},
   "outputs": [],
   "source": [
    "import pandas as pd\n",
    "import numpy as np\n",
    "import getpass\n",
    "from pycba.db import create_tera_conn, run_sql, get_data, create_hive_conn\n",
    "import plotly.graph_objs as go\n",
    "import plotly.offline as po\n",
    "from plotly.tools import FigureFactory as FF\n",
    "import matplotlib.pyplot as plt\n",
    "import datetime as dt"
   ]
  },
  {
   "cell_type": "markdown",
   "metadata": {},
   "source": [
    "## Obtain Data Using PyCBA"
   ]
  },
  {
   "cell_type": "markdown",
   "metadata": {},
   "source": [
    "### Set Up Authentication (Requires kinit beforehand)"
   ]
  },
  {
   "cell_type": "code",
   "execution_count": 2,
   "metadata": {},
   "outputs": [
    {
     "name": "stdout",
     "output_type": "stream",
     "text": [
      "The username detected is chonghsi\n"
     ]
    }
   ],
   "source": [
    "user = getpass.getuser()\n",
    "print(\"The username detected is {0}\".format(user))"
   ]
  },
  {
   "cell_type": "code",
   "execution_count": 3,
   "metadata": {},
   "outputs": [
    {
     "name": "stderr",
     "output_type": "stream",
     "text": [
      "15:11:33 [pycba] INFO db::create_hive_conn: Hive connection to host nwr11omdhn03p.nw-omnia.cba successful\n"
     ]
    }
   ],
   "source": [
    "#conn_gdw = create_tera_conn(uid = user)\n",
    "conn_hive = create_hive_conn(uid = user)"
   ]
  },
  {
   "cell_type": "markdown",
   "metadata": {},
   "source": [
    "### Extract Allocator Historical Data From OMNIA"
   ]
  },
  {
   "cell_type": "code",
   "execution_count": 4,
   "metadata": {},
   "outputs": [
    {
     "name": "stderr",
     "output_type": "stream",
     "text": [
      "15:15:02 [pycba] INFO db::get_data: Query successfully ran, returning a 1167215 x 6 DataFrame\n"
     ]
    }
   ],
   "source": [
    "allocator_query = \"\"\"\n",
    "    select \n",
    "        A.cif,\n",
    "        A.channel,\n",
    "        A.propositionidentifier,\n",
    "        A.experimentalgroup,\n",
    "        A.nbcscore,\n",
    "        A.allocated\n",
    "    from \n",
    "        pr_cep_reporting.allocator A\n",
    "    where\n",
    "        A.channel = 'Branch'\n",
    "        and A.allocated >= '2018-01-01' \n",
    "        and A.allocated < '2018-07-01'\n",
    "\"\"\"\n",
    "\n",
    "allocator_data = get_data(conn_hive, allocator_query)"
   ]
  },
  {
   "cell_type": "code",
   "execution_count": 5,
   "metadata": {},
   "outputs": [],
   "source": [
    "allocator_data.to_csv(\"allocator_data.csv\", index = False)"
   ]
  },
  {
   "cell_type": "code",
   "execution_count": 6,
   "metadata": {},
   "outputs": [],
   "source": [
    "allocator_data = pd.read_csv(\"allocator_data.csv\")"
   ]
  },
  {
   "cell_type": "markdown",
   "metadata": {},
   "source": [
    "### Clean, Join & Process Data Using Pandas"
   ]
  },
  {
   "cell_type": "markdown",
   "metadata": {},
   "source": [
    "#### Check head of the datasets"
   ]
  },
  {
   "cell_type": "markdown",
   "metadata": {},
   "source": [
    "The **iloc** method in pandas subsets the dataframe by row numbers and/or column numbers, eg df.iloc[:20, :10] would output the top 20 rows and the top 10 columns"
   ]
  },
  {
   "cell_type": "code",
   "execution_count": 8,
   "metadata": {},
   "outputs": [
    {
     "data": {
      "text/plain": [
       "(1167215, 6)"
      ]
     },
     "execution_count": 8,
     "metadata": {},
     "output_type": "execute_result"
    }
   ],
   "source": [
    "allocator_data.shape"
   ]
  },
  {
   "cell_type": "code",
   "execution_count": 7,
   "metadata": {},
   "outputs": [
    {
     "data": {
      "text/html": [
       "<div>\n",
       "<style scoped>\n",
       "    .dataframe tbody tr th:only-of-type {\n",
       "        vertical-align: middle;\n",
       "    }\n",
       "\n",
       "    .dataframe tbody tr th {\n",
       "        vertical-align: top;\n",
       "    }\n",
       "\n",
       "    .dataframe thead th {\n",
       "        text-align: right;\n",
       "    }\n",
       "</style>\n",
       "<table border=\"1\" class=\"dataframe\">\n",
       "  <thead>\n",
       "    <tr style=\"text-align: right;\">\n",
       "      <th></th>\n",
       "      <th>cif</th>\n",
       "      <th>channel</th>\n",
       "      <th>propositionidentifier</th>\n",
       "      <th>experimentalgroup</th>\n",
       "      <th>nbcscore</th>\n",
       "      <th>allocated</th>\n",
       "    </tr>\n",
       "  </thead>\n",
       "  <tbody>\n",
       "    <tr>\n",
       "      <th>0</th>\n",
       "      <td>735123001</td>\n",
       "      <td>Branch</td>\n",
       "      <td>/Service/Transactions/LargeDepositOFI30</td>\n",
       "      <td>T</td>\n",
       "      <td>394.412752</td>\n",
       "      <td>2018-06-05 07:00:00.0</td>\n",
       "    </tr>\n",
       "    <tr>\n",
       "      <th>1</th>\n",
       "      <td>299815101</td>\n",
       "      <td>Branch</td>\n",
       "      <td>/Sales/HomeLoan/HL2015</td>\n",
       "      <td>T</td>\n",
       "      <td>508.076499</td>\n",
       "      <td>2018-06-05 07:00:00.0</td>\n",
       "    </tr>\n",
       "    <tr>\n",
       "      <th>2</th>\n",
       "      <td>3006296</td>\n",
       "      <td>Branch</td>\n",
       "      <td>/Service/Transactions/LargeBalanceMovement</td>\n",
       "      <td>T</td>\n",
       "      <td>6734.710398</td>\n",
       "      <td>2018-06-05 07:00:00.0</td>\n",
       "    </tr>\n",
       "    <tr>\n",
       "      <th>3</th>\n",
       "      <td>459843325</td>\n",
       "      <td>Branch</td>\n",
       "      <td>/Sales/HomeLoan/HLPropertyApp</td>\n",
       "      <td>T</td>\n",
       "      <td>1023.994488</td>\n",
       "      <td>2018-06-05 07:00:00.0</td>\n",
       "    </tr>\n",
       "    <tr>\n",
       "      <th>4</th>\n",
       "      <td>8067598</td>\n",
       "      <td>Branch</td>\n",
       "      <td>/Service/Transactions/QNABranch</td>\n",
       "      <td>T</td>\n",
       "      <td>359437.167600</td>\n",
       "      <td>2018-06-05 07:00:00.0</td>\n",
       "    </tr>\n",
       "    <tr>\n",
       "      <th>5</th>\n",
       "      <td>272673758</td>\n",
       "      <td>Branch</td>\n",
       "      <td>/Sales/HomeLoan/HLOFI</td>\n",
       "      <td>T</td>\n",
       "      <td>37.728485</td>\n",
       "      <td>2018-06-05 07:00:00.0</td>\n",
       "    </tr>\n",
       "    <tr>\n",
       "      <th>6</th>\n",
       "      <td>98274957</td>\n",
       "      <td>Branch</td>\n",
       "      <td>/Service/Transactions/CardlessDepTech</td>\n",
       "      <td>E1</td>\n",
       "      <td>1.000000</td>\n",
       "      <td>2018-06-05 07:00:00.0</td>\n",
       "    </tr>\n",
       "    <tr>\n",
       "      <th>7</th>\n",
       "      <td>715888075</td>\n",
       "      <td>Branch</td>\n",
       "      <td>/Sales/HomeLoan/HLWinback</td>\n",
       "      <td>T</td>\n",
       "      <td>2462.954223</td>\n",
       "      <td>2018-06-05 07:00:00.0</td>\n",
       "    </tr>\n",
       "    <tr>\n",
       "      <th>8</th>\n",
       "      <td>633392708</td>\n",
       "      <td>Branch</td>\n",
       "      <td>/Sales/HomeLoan/HLOFI</td>\n",
       "      <td>T</td>\n",
       "      <td>102.907462</td>\n",
       "      <td>2018-06-05 07:00:00.0</td>\n",
       "    </tr>\n",
       "    <tr>\n",
       "      <th>9</th>\n",
       "      <td>10277037</td>\n",
       "      <td>Branch</td>\n",
       "      <td>/Sales/Transactions/Savings2015</td>\n",
       "      <td>E1</td>\n",
       "      <td>0.752616</td>\n",
       "      <td>2018-06-05 09:45:00.0</td>\n",
       "    </tr>\n",
       "  </tbody>\n",
       "</table>\n",
       "</div>"
      ],
      "text/plain": [
       "         cif channel                       propositionidentifier  \\\n",
       "0  735123001  Branch     /Service/Transactions/LargeDepositOFI30   \n",
       "1  299815101  Branch                      /Sales/HomeLoan/HL2015   \n",
       "2    3006296  Branch  /Service/Transactions/LargeBalanceMovement   \n",
       "3  459843325  Branch               /Sales/HomeLoan/HLPropertyApp   \n",
       "4    8067598  Branch             /Service/Transactions/QNABranch   \n",
       "5  272673758  Branch                       /Sales/HomeLoan/HLOFI   \n",
       "6   98274957  Branch       /Service/Transactions/CardlessDepTech   \n",
       "7  715888075  Branch                   /Sales/HomeLoan/HLWinback   \n",
       "8  633392708  Branch                       /Sales/HomeLoan/HLOFI   \n",
       "9   10277037  Branch             /Sales/Transactions/Savings2015   \n",
       "\n",
       "  experimentalgroup       nbcscore              allocated  \n",
       "0                 T     394.412752  2018-06-05 07:00:00.0  \n",
       "1                 T     508.076499  2018-06-05 07:00:00.0  \n",
       "2                 T    6734.710398  2018-06-05 07:00:00.0  \n",
       "3                 T    1023.994488  2018-06-05 07:00:00.0  \n",
       "4                 T  359437.167600  2018-06-05 07:00:00.0  \n",
       "5                 T      37.728485  2018-06-05 07:00:00.0  \n",
       "6                E1       1.000000  2018-06-05 07:00:00.0  \n",
       "7                 T    2462.954223  2018-06-05 07:00:00.0  \n",
       "8                 T     102.907462  2018-06-05 07:00:00.0  \n",
       "9                E1       0.752616  2018-06-05 09:45:00.0  "
      ]
     },
     "execution_count": 7,
     "metadata": {},
     "output_type": "execute_result"
    }
   ],
   "source": [
    "allocator_data.iloc[:10]"
   ]
  },
  {
   "cell_type": "markdown",
   "metadata": {},
   "source": [
    "The datatypes contained in each column can be accessed using the **dtypes** attribute (note: object = not numeric)"
   ]
  },
  {
   "cell_type": "code",
   "execution_count": 7,
   "metadata": {},
   "outputs": [
    {
     "data": {
      "text/plain": [
       "cif                        int64\n",
       "channel                   object\n",
       "propositionidentifier     object\n",
       "experimentalgroup         object\n",
       "nbcscore                 float64\n",
       "allocated                 object\n",
       "dtype: object"
      ]
     },
     "execution_count": 7,
     "metadata": {},
     "output_type": "execute_result"
    }
   ],
   "source": [
    "allocator_data.dtypes"
   ]
  },
  {
   "cell_type": "markdown",
   "metadata": {},
   "source": [
    "#### Split Out Identifier into Issue Group and NBC Name"
   ]
  },
  {
   "cell_type": "code",
   "execution_count": 8,
   "metadata": {},
   "outputs": [],
   "source": [
    "allocator_data[[\"Issue\", \"Group\", \"NBC\"]] = allocator_data[\"propositionidentifier\"].str[1:].str.split(\"/\", expand = True)"
   ]
  },
  {
   "cell_type": "code",
   "execution_count": 9,
   "metadata": {},
   "outputs": [
    {
     "data": {
      "text/html": [
       "<div>\n",
       "<style scoped>\n",
       "    .dataframe tbody tr th:only-of-type {\n",
       "        vertical-align: middle;\n",
       "    }\n",
       "\n",
       "    .dataframe tbody tr th {\n",
       "        vertical-align: top;\n",
       "    }\n",
       "\n",
       "    .dataframe thead th {\n",
       "        text-align: right;\n",
       "    }\n",
       "</style>\n",
       "<table border=\"1\" class=\"dataframe\">\n",
       "  <thead>\n",
       "    <tr style=\"text-align: right;\">\n",
       "      <th></th>\n",
       "      <th>cif</th>\n",
       "      <th>channel</th>\n",
       "      <th>propositionidentifier</th>\n",
       "      <th>experimentalgroup</th>\n",
       "      <th>nbcscore</th>\n",
       "      <th>allocated</th>\n",
       "      <th>Issue</th>\n",
       "      <th>Group</th>\n",
       "      <th>NBC</th>\n",
       "    </tr>\n",
       "  </thead>\n",
       "  <tbody>\n",
       "    <tr>\n",
       "      <th>0</th>\n",
       "      <td>541494793</td>\n",
       "      <td>Branch</td>\n",
       "      <td>/Service/HomeLoan/HLEndDeal</td>\n",
       "      <td>T</td>\n",
       "      <td>1440.278220</td>\n",
       "      <td>2018-01-12 07:24:48.0</td>\n",
       "      <td>Service</td>\n",
       "      <td>HomeLoan</td>\n",
       "      <td>HLEndDeal</td>\n",
       "    </tr>\n",
       "    <tr>\n",
       "      <th>1</th>\n",
       "      <td>5837909</td>\n",
       "      <td>Branch</td>\n",
       "      <td>/Service/Customer/FHCMass2015</td>\n",
       "      <td>C</td>\n",
       "      <td>2.304539</td>\n",
       "      <td>2018-01-12 07:38:06.0</td>\n",
       "      <td>Service</td>\n",
       "      <td>Customer</td>\n",
       "      <td>FHCMass2015</td>\n",
       "    </tr>\n",
       "    <tr>\n",
       "      <th>2</th>\n",
       "      <td>920888785</td>\n",
       "      <td>Branch</td>\n",
       "      <td>/Service/Transactions/LargeWithdrawalCBA</td>\n",
       "      <td>T</td>\n",
       "      <td>1179.109545</td>\n",
       "      <td>2018-01-12 07:24:49.0</td>\n",
       "      <td>Service</td>\n",
       "      <td>Transactions</td>\n",
       "      <td>LargeWithdrawalCBA</td>\n",
       "    </tr>\n",
       "    <tr>\n",
       "      <th>3</th>\n",
       "      <td>219928255</td>\n",
       "      <td>Branch</td>\n",
       "      <td>/Service/HomeLoan/HLIntentToSell</td>\n",
       "      <td>T</td>\n",
       "      <td>25.185000</td>\n",
       "      <td>2018-01-12 07:25:11.0</td>\n",
       "      <td>Service</td>\n",
       "      <td>HomeLoan</td>\n",
       "      <td>HLIntentToSell</td>\n",
       "    </tr>\n",
       "    <tr>\n",
       "      <th>4</th>\n",
       "      <td>6878258</td>\n",
       "      <td>Branch</td>\n",
       "      <td>/Service/HomeLoan/HLTopUp</td>\n",
       "      <td>T</td>\n",
       "      <td>7.496910</td>\n",
       "      <td>2018-01-12 07:25:14.0</td>\n",
       "      <td>Service</td>\n",
       "      <td>HomeLoan</td>\n",
       "      <td>HLTopUp</td>\n",
       "    </tr>\n",
       "    <tr>\n",
       "      <th>5</th>\n",
       "      <td>6078120</td>\n",
       "      <td>Branch</td>\n",
       "      <td>/Service/Customer/FHCGoalTravel</td>\n",
       "      <td>T</td>\n",
       "      <td>59.319120</td>\n",
       "      <td>2018-01-12 07:25:08.0</td>\n",
       "      <td>Service</td>\n",
       "      <td>Customer</td>\n",
       "      <td>FHCGoalTravel</td>\n",
       "    </tr>\n",
       "    <tr>\n",
       "      <th>6</th>\n",
       "      <td>3841166</td>\n",
       "      <td>Branch</td>\n",
       "      <td>/Service/Customer/FHCMass2015</td>\n",
       "      <td>T</td>\n",
       "      <td>1.467749</td>\n",
       "      <td>2018-01-12 07:25:18.0</td>\n",
       "      <td>Service</td>\n",
       "      <td>Customer</td>\n",
       "      <td>FHCMass2015</td>\n",
       "    </tr>\n",
       "    <tr>\n",
       "      <th>7</th>\n",
       "      <td>9344797</td>\n",
       "      <td>Branch</td>\n",
       "      <td>/Service/Customer/FHCMass2015</td>\n",
       "      <td>E1</td>\n",
       "      <td>1.224089</td>\n",
       "      <td>2018-01-12 07:25:02.0</td>\n",
       "      <td>Service</td>\n",
       "      <td>Customer</td>\n",
       "      <td>FHCMass2015</td>\n",
       "    </tr>\n",
       "    <tr>\n",
       "      <th>8</th>\n",
       "      <td>1599711</td>\n",
       "      <td>Branch</td>\n",
       "      <td>/Service/Transactions/QNABranch</td>\n",
       "      <td>T</td>\n",
       "      <td>2437.167600</td>\n",
       "      <td>2018-01-12 07:24:46.0</td>\n",
       "      <td>Service</td>\n",
       "      <td>Transactions</td>\n",
       "      <td>QNABranch</td>\n",
       "    </tr>\n",
       "    <tr>\n",
       "      <th>9</th>\n",
       "      <td>639116000</td>\n",
       "      <td>Branch</td>\n",
       "      <td>/Service/Transactions/LargeBalanceMovement</td>\n",
       "      <td>T</td>\n",
       "      <td>3058.336207</td>\n",
       "      <td>2018-01-12 07:24:43.0</td>\n",
       "      <td>Service</td>\n",
       "      <td>Transactions</td>\n",
       "      <td>LargeBalanceMovement</td>\n",
       "    </tr>\n",
       "  </tbody>\n",
       "</table>\n",
       "</div>"
      ],
      "text/plain": [
       "         cif channel                       propositionidentifier  \\\n",
       "0  541494793  Branch                 /Service/HomeLoan/HLEndDeal   \n",
       "1    5837909  Branch               /Service/Customer/FHCMass2015   \n",
       "2  920888785  Branch    /Service/Transactions/LargeWithdrawalCBA   \n",
       "3  219928255  Branch            /Service/HomeLoan/HLIntentToSell   \n",
       "4    6878258  Branch                   /Service/HomeLoan/HLTopUp   \n",
       "5    6078120  Branch             /Service/Customer/FHCGoalTravel   \n",
       "6    3841166  Branch               /Service/Customer/FHCMass2015   \n",
       "7    9344797  Branch               /Service/Customer/FHCMass2015   \n",
       "8    1599711  Branch             /Service/Transactions/QNABranch   \n",
       "9  639116000  Branch  /Service/Transactions/LargeBalanceMovement   \n",
       "\n",
       "  experimentalgroup     nbcscore              allocated    Issue  \\\n",
       "0                 T  1440.278220  2018-01-12 07:24:48.0  Service   \n",
       "1                 C     2.304539  2018-01-12 07:38:06.0  Service   \n",
       "2                 T  1179.109545  2018-01-12 07:24:49.0  Service   \n",
       "3                 T    25.185000  2018-01-12 07:25:11.0  Service   \n",
       "4                 T     7.496910  2018-01-12 07:25:14.0  Service   \n",
       "5                 T    59.319120  2018-01-12 07:25:08.0  Service   \n",
       "6                 T     1.467749  2018-01-12 07:25:18.0  Service   \n",
       "7                E1     1.224089  2018-01-12 07:25:02.0  Service   \n",
       "8                 T  2437.167600  2018-01-12 07:24:46.0  Service   \n",
       "9                 T  3058.336207  2018-01-12 07:24:43.0  Service   \n",
       "\n",
       "          Group                   NBC  \n",
       "0      HomeLoan             HLEndDeal  \n",
       "1      Customer           FHCMass2015  \n",
       "2  Transactions    LargeWithdrawalCBA  \n",
       "3      HomeLoan        HLIntentToSell  \n",
       "4      HomeLoan               HLTopUp  \n",
       "5      Customer         FHCGoalTravel  \n",
       "6      Customer           FHCMass2015  \n",
       "7      Customer           FHCMass2015  \n",
       "8  Transactions             QNABranch  \n",
       "9  Transactions  LargeBalanceMovement  "
      ]
     },
     "execution_count": 9,
     "metadata": {},
     "output_type": "execute_result"
    }
   ],
   "source": [
    "allocator_data.iloc[:10]"
   ]
  },
  {
   "cell_type": "markdown",
   "metadata": {},
   "source": [
    "#### Create Date Field from Allocated DateTime String"
   ]
  },
  {
   "cell_type": "markdown",
   "metadata": {},
   "source": [
    "##### Convert DateTime String to DateTime Format"
   ]
  },
  {
   "cell_type": "code",
   "execution_count": 9,
   "metadata": {},
   "outputs": [],
   "source": [
    "allocator_data[\"allocated_dt\"] = pd.to_datetime(allocator_data[\"allocated\"])"
   ]
  },
  {
   "cell_type": "code",
   "execution_count": 11,
   "metadata": {},
   "outputs": [
    {
     "data": {
      "text/plain": [
       "cif                               int64\n",
       "channel                          object\n",
       "propositionidentifier            object\n",
       "experimentalgroup                object\n",
       "nbcscore                        float64\n",
       "allocated                        object\n",
       "Issue                            object\n",
       "Group                            object\n",
       "NBC                              object\n",
       "allocated_dt             datetime64[ns]\n",
       "dtype: object"
      ]
     },
     "execution_count": 11,
     "metadata": {},
     "output_type": "execute_result"
    }
   ],
   "source": [
    "allocator_data.dtypes"
   ]
  },
  {
   "cell_type": "markdown",
   "metadata": {},
   "source": [
    "##### Extract Date from DateTime"
   ]
  },
  {
   "cell_type": "code",
   "execution_count": 12,
   "metadata": {},
   "outputs": [],
   "source": [
    "allocator_data[\"allocated_d\"] = allocator_data[\"allocated_dt\"].dt.date"
   ]
  },
  {
   "cell_type": "code",
   "execution_count": 13,
   "metadata": {},
   "outputs": [
    {
     "data": {
      "text/plain": [
       "cif                               int64\n",
       "channel                          object\n",
       "propositionidentifier            object\n",
       "experimentalgroup                object\n",
       "nbcscore                        float64\n",
       "allocated                        object\n",
       "Issue                            object\n",
       "Group                            object\n",
       "NBC                              object\n",
       "allocated_dt             datetime64[ns]\n",
       "allocated_d                      object\n",
       "dtype: object"
      ]
     },
     "execution_count": 13,
     "metadata": {},
     "output_type": "execute_result"
    }
   ],
   "source": [
    "allocator_data.dtypes"
   ]
  },
  {
   "cell_type": "markdown",
   "metadata": {},
   "source": [
    "##### Extract Month from DateTime"
   ]
  },
  {
   "cell_type": "code",
   "execution_count": 14,
   "metadata": {},
   "outputs": [],
   "source": [
    "allocator_data[\"allocated_m\"] = allocator_data[\"allocated_dt\"].dt.to_period('M')"
   ]
  },
  {
   "cell_type": "code",
   "execution_count": 15,
   "metadata": {},
   "outputs": [
    {
     "data": {
      "text/html": [
       "<div>\n",
       "<style scoped>\n",
       "    .dataframe tbody tr th:only-of-type {\n",
       "        vertical-align: middle;\n",
       "    }\n",
       "\n",
       "    .dataframe tbody tr th {\n",
       "        vertical-align: top;\n",
       "    }\n",
       "\n",
       "    .dataframe thead th {\n",
       "        text-align: right;\n",
       "    }\n",
       "</style>\n",
       "<table border=\"1\" class=\"dataframe\">\n",
       "  <thead>\n",
       "    <tr style=\"text-align: right;\">\n",
       "      <th></th>\n",
       "      <th>cif</th>\n",
       "      <th>channel</th>\n",
       "      <th>propositionidentifier</th>\n",
       "      <th>experimentalgroup</th>\n",
       "      <th>nbcscore</th>\n",
       "      <th>allocated</th>\n",
       "      <th>Issue</th>\n",
       "      <th>Group</th>\n",
       "      <th>NBC</th>\n",
       "      <th>allocated_dt</th>\n",
       "      <th>allocated_d</th>\n",
       "      <th>allocated_m</th>\n",
       "    </tr>\n",
       "  </thead>\n",
       "  <tbody>\n",
       "    <tr>\n",
       "      <th>0</th>\n",
       "      <td>541494793</td>\n",
       "      <td>Branch</td>\n",
       "      <td>/Service/HomeLoan/HLEndDeal</td>\n",
       "      <td>T</td>\n",
       "      <td>1440.278220</td>\n",
       "      <td>2018-01-12 07:24:48.0</td>\n",
       "      <td>Service</td>\n",
       "      <td>HomeLoan</td>\n",
       "      <td>HLEndDeal</td>\n",
       "      <td>2018-01-12 07:24:48</td>\n",
       "      <td>2018-01-12</td>\n",
       "      <td>2018-01</td>\n",
       "    </tr>\n",
       "    <tr>\n",
       "      <th>1</th>\n",
       "      <td>5837909</td>\n",
       "      <td>Branch</td>\n",
       "      <td>/Service/Customer/FHCMass2015</td>\n",
       "      <td>C</td>\n",
       "      <td>2.304539</td>\n",
       "      <td>2018-01-12 07:38:06.0</td>\n",
       "      <td>Service</td>\n",
       "      <td>Customer</td>\n",
       "      <td>FHCMass2015</td>\n",
       "      <td>2018-01-12 07:38:06</td>\n",
       "      <td>2018-01-12</td>\n",
       "      <td>2018-01</td>\n",
       "    </tr>\n",
       "    <tr>\n",
       "      <th>2</th>\n",
       "      <td>920888785</td>\n",
       "      <td>Branch</td>\n",
       "      <td>/Service/Transactions/LargeWithdrawalCBA</td>\n",
       "      <td>T</td>\n",
       "      <td>1179.109545</td>\n",
       "      <td>2018-01-12 07:24:49.0</td>\n",
       "      <td>Service</td>\n",
       "      <td>Transactions</td>\n",
       "      <td>LargeWithdrawalCBA</td>\n",
       "      <td>2018-01-12 07:24:49</td>\n",
       "      <td>2018-01-12</td>\n",
       "      <td>2018-01</td>\n",
       "    </tr>\n",
       "    <tr>\n",
       "      <th>3</th>\n",
       "      <td>219928255</td>\n",
       "      <td>Branch</td>\n",
       "      <td>/Service/HomeLoan/HLIntentToSell</td>\n",
       "      <td>T</td>\n",
       "      <td>25.185000</td>\n",
       "      <td>2018-01-12 07:25:11.0</td>\n",
       "      <td>Service</td>\n",
       "      <td>HomeLoan</td>\n",
       "      <td>HLIntentToSell</td>\n",
       "      <td>2018-01-12 07:25:11</td>\n",
       "      <td>2018-01-12</td>\n",
       "      <td>2018-01</td>\n",
       "    </tr>\n",
       "    <tr>\n",
       "      <th>4</th>\n",
       "      <td>6878258</td>\n",
       "      <td>Branch</td>\n",
       "      <td>/Service/HomeLoan/HLTopUp</td>\n",
       "      <td>T</td>\n",
       "      <td>7.496910</td>\n",
       "      <td>2018-01-12 07:25:14.0</td>\n",
       "      <td>Service</td>\n",
       "      <td>HomeLoan</td>\n",
       "      <td>HLTopUp</td>\n",
       "      <td>2018-01-12 07:25:14</td>\n",
       "      <td>2018-01-12</td>\n",
       "      <td>2018-01</td>\n",
       "    </tr>\n",
       "    <tr>\n",
       "      <th>5</th>\n",
       "      <td>6078120</td>\n",
       "      <td>Branch</td>\n",
       "      <td>/Service/Customer/FHCGoalTravel</td>\n",
       "      <td>T</td>\n",
       "      <td>59.319120</td>\n",
       "      <td>2018-01-12 07:25:08.0</td>\n",
       "      <td>Service</td>\n",
       "      <td>Customer</td>\n",
       "      <td>FHCGoalTravel</td>\n",
       "      <td>2018-01-12 07:25:08</td>\n",
       "      <td>2018-01-12</td>\n",
       "      <td>2018-01</td>\n",
       "    </tr>\n",
       "    <tr>\n",
       "      <th>6</th>\n",
       "      <td>3841166</td>\n",
       "      <td>Branch</td>\n",
       "      <td>/Service/Customer/FHCMass2015</td>\n",
       "      <td>T</td>\n",
       "      <td>1.467749</td>\n",
       "      <td>2018-01-12 07:25:18.0</td>\n",
       "      <td>Service</td>\n",
       "      <td>Customer</td>\n",
       "      <td>FHCMass2015</td>\n",
       "      <td>2018-01-12 07:25:18</td>\n",
       "      <td>2018-01-12</td>\n",
       "      <td>2018-01</td>\n",
       "    </tr>\n",
       "    <tr>\n",
       "      <th>7</th>\n",
       "      <td>9344797</td>\n",
       "      <td>Branch</td>\n",
       "      <td>/Service/Customer/FHCMass2015</td>\n",
       "      <td>E1</td>\n",
       "      <td>1.224089</td>\n",
       "      <td>2018-01-12 07:25:02.0</td>\n",
       "      <td>Service</td>\n",
       "      <td>Customer</td>\n",
       "      <td>FHCMass2015</td>\n",
       "      <td>2018-01-12 07:25:02</td>\n",
       "      <td>2018-01-12</td>\n",
       "      <td>2018-01</td>\n",
       "    </tr>\n",
       "    <tr>\n",
       "      <th>8</th>\n",
       "      <td>1599711</td>\n",
       "      <td>Branch</td>\n",
       "      <td>/Service/Transactions/QNABranch</td>\n",
       "      <td>T</td>\n",
       "      <td>2437.167600</td>\n",
       "      <td>2018-01-12 07:24:46.0</td>\n",
       "      <td>Service</td>\n",
       "      <td>Transactions</td>\n",
       "      <td>QNABranch</td>\n",
       "      <td>2018-01-12 07:24:46</td>\n",
       "      <td>2018-01-12</td>\n",
       "      <td>2018-01</td>\n",
       "    </tr>\n",
       "    <tr>\n",
       "      <th>9</th>\n",
       "      <td>639116000</td>\n",
       "      <td>Branch</td>\n",
       "      <td>/Service/Transactions/LargeBalanceMovement</td>\n",
       "      <td>T</td>\n",
       "      <td>3058.336207</td>\n",
       "      <td>2018-01-12 07:24:43.0</td>\n",
       "      <td>Service</td>\n",
       "      <td>Transactions</td>\n",
       "      <td>LargeBalanceMovement</td>\n",
       "      <td>2018-01-12 07:24:43</td>\n",
       "      <td>2018-01-12</td>\n",
       "      <td>2018-01</td>\n",
       "    </tr>\n",
       "  </tbody>\n",
       "</table>\n",
       "</div>"
      ],
      "text/plain": [
       "         cif channel                       propositionidentifier  \\\n",
       "0  541494793  Branch                 /Service/HomeLoan/HLEndDeal   \n",
       "1    5837909  Branch               /Service/Customer/FHCMass2015   \n",
       "2  920888785  Branch    /Service/Transactions/LargeWithdrawalCBA   \n",
       "3  219928255  Branch            /Service/HomeLoan/HLIntentToSell   \n",
       "4    6878258  Branch                   /Service/HomeLoan/HLTopUp   \n",
       "5    6078120  Branch             /Service/Customer/FHCGoalTravel   \n",
       "6    3841166  Branch               /Service/Customer/FHCMass2015   \n",
       "7    9344797  Branch               /Service/Customer/FHCMass2015   \n",
       "8    1599711  Branch             /Service/Transactions/QNABranch   \n",
       "9  639116000  Branch  /Service/Transactions/LargeBalanceMovement   \n",
       "\n",
       "  experimentalgroup     nbcscore              allocated    Issue  \\\n",
       "0                 T  1440.278220  2018-01-12 07:24:48.0  Service   \n",
       "1                 C     2.304539  2018-01-12 07:38:06.0  Service   \n",
       "2                 T  1179.109545  2018-01-12 07:24:49.0  Service   \n",
       "3                 T    25.185000  2018-01-12 07:25:11.0  Service   \n",
       "4                 T     7.496910  2018-01-12 07:25:14.0  Service   \n",
       "5                 T    59.319120  2018-01-12 07:25:08.0  Service   \n",
       "6                 T     1.467749  2018-01-12 07:25:18.0  Service   \n",
       "7                E1     1.224089  2018-01-12 07:25:02.0  Service   \n",
       "8                 T  2437.167600  2018-01-12 07:24:46.0  Service   \n",
       "9                 T  3058.336207  2018-01-12 07:24:43.0  Service   \n",
       "\n",
       "          Group                   NBC        allocated_dt allocated_d  \\\n",
       "0      HomeLoan             HLEndDeal 2018-01-12 07:24:48  2018-01-12   \n",
       "1      Customer           FHCMass2015 2018-01-12 07:38:06  2018-01-12   \n",
       "2  Transactions    LargeWithdrawalCBA 2018-01-12 07:24:49  2018-01-12   \n",
       "3      HomeLoan        HLIntentToSell 2018-01-12 07:25:11  2018-01-12   \n",
       "4      HomeLoan               HLTopUp 2018-01-12 07:25:14  2018-01-12   \n",
       "5      Customer         FHCGoalTravel 2018-01-12 07:25:08  2018-01-12   \n",
       "6      Customer           FHCMass2015 2018-01-12 07:25:18  2018-01-12   \n",
       "7      Customer           FHCMass2015 2018-01-12 07:25:02  2018-01-12   \n",
       "8  Transactions             QNABranch 2018-01-12 07:24:46  2018-01-12   \n",
       "9  Transactions  LargeBalanceMovement 2018-01-12 07:24:43  2018-01-12   \n",
       "\n",
       "  allocated_m  \n",
       "0     2018-01  \n",
       "1     2018-01  \n",
       "2     2018-01  \n",
       "3     2018-01  \n",
       "4     2018-01  \n",
       "5     2018-01  \n",
       "6     2018-01  \n",
       "7     2018-01  \n",
       "8     2018-01  \n",
       "9     2018-01  "
      ]
     },
     "execution_count": 15,
     "metadata": {},
     "output_type": "execute_result"
    }
   ],
   "source": [
    "allocator_data.iloc[:10]"
   ]
  },
  {
   "cell_type": "markdown",
   "metadata": {},
   "source": [
    "#### Summarising Allocation Numbers & Charting"
   ]
  },
  {
   "cell_type": "code",
   "execution_count": 16,
   "metadata": {},
   "outputs": [
    {
     "data": {
      "text/plain": [
       "allocated_m\n",
       "2018-01    169416\n",
       "2018-02    180639\n",
       "2018-03    190091\n",
       "2018-04    186993\n",
       "2018-05    244457\n",
       "2018-06    195619\n",
       "Freq: M, Name: propositionidentifier, dtype: int64"
      ]
     },
     "execution_count": 16,
     "metadata": {},
     "output_type": "execute_result"
    }
   ],
   "source": [
    "allocator_data.groupby([\"allocated_m\"])[\"propositionidentifier\"].count()"
   ]
  },
  {
   "cell_type": "code",
   "execution_count": 17,
   "metadata": {},
   "outputs": [
    {
     "name": "stdout",
     "output_type": "stream",
     "text": [
      "2018-01\n"
     ]
    },
    {
     "data": {
      "image/png": "[encoded data removed]",
      "text/plain": [
       "<Figure size 432x288 with 1 Axes>"
      ]
     },
     "metadata": {},
     "output_type": "display_data"
    },
    {
     "name": "stdout",
     "output_type": "stream",
     "text": [
      "2018-02\n"
     ]
    },
    {
     "data": {
      "image/png": "[encoded data removed]",
      "text/plain": [
       "<Figure size 432x288 with 1 Axes>"
      ]
     },
     "metadata": {},
     "output_type": "display_data"
    },
    {
     "name": "stdout",
     "output_type": "stream",
     "text": [
      "2018-03\n"
     ]
    },
    {
     "data": {
      "image/png": "[encoded data removed]",
      "text/plain": [
       "<Figure size 432x288 with 1 Axes>"
      ]
     },
     "metadata": {},
     "output_type": "display_data"
    },
    {
     "name": "stdout",
     "output_type": "stream",
     "text": [
      "2018-04\n"
     ]
    },
    {
     "data": {
      "image/png": "[encoded data removed]",
      "text/plain": [
       "<Figure size 432x288 with 1 Axes>"
      ]
     },
     "metadata": {},
     "output_type": "display_data"
    },
    {
     "name": "stdout",
     "output_type": "stream",
     "text": [
      "2018-05\n"
     ]
    },
    {
     "data": {
      "image/png": "[encoded data removed]",
      "text/plain": [
       "<Figure size 432x288 with 1 Axes>"
      ]
     },
     "metadata": {},
     "output_type": "display_data"
    },
    {
     "name": "stdout",
     "output_type": "stream",
     "text": [
      "2018-06\n"
     ]
    },
    {
     "data": {
      "image/png": "[encoded data removed]",
      "text/plain": [
       "<Figure size 432x288 with 1 Axes>"
      ]
     },
     "metadata": {},
     "output_type": "display_data"
    }
   ],
   "source": [
    "for i, j in allocator_data.groupby([\"allocated_m\"])[\"nbcscore\"]:\n",
    "    print(i)\n",
    "    j.hist(range = [0, 5000])\n",
    "    plt.show()"
   ]
  },
  {
   "cell_type": "markdown",
   "metadata": {},
   "source": [
    "### [Advanced] Introduction to Plotly"
   ]
  },
  {
   "cell_type": "markdown",
   "metadata": {},
   "source": [
    "Plotly is an interactive graphing package available in both Python and R.\n",
    "\n",
    "In Python, a plot / subplot is the basic building block and contains 2 elements: data (**what**) and layout (**how**)."
   ]
  },
  {
   "cell_type": "markdown",
   "metadata": {},
   "source": [
    "##### First Plot"
   ]
  },
  {
   "cell_type": "code",
   "execution_count": 30,
   "metadata": {},
   "outputs": [],
   "source": [
    "import plotly.graph_objs as go # Used to build a plot from data & layout\n",
    "from plotly.tools import FigureFactory as FF # Optional - used for widgets to make plots more interactive\n",
    "import plotly.offline as po # Used to render the chart"
   ]
  },
  {
   "cell_type": "code",
   "execution_count": 45,
   "metadata": {},
   "outputs": [],
   "source": [
    "groups = allocator_data[\"Group\"].drop_duplicates().sort_values().tolist()\n",
    "months = allocator_data[\"allocated_m\"].drop_duplicates().sort_values().tolist()"
   ]
  },
  {
   "cell_type": "code",
   "execution_count": 73,
   "metadata": {},
   "outputs": [],
   "source": [
    "data = [\n",
    "        go.Histogram(x=allocator_data.loc[\n",
    "                        (allocator_data[\"Group\"] == group) \n",
    "                        & (allocator_data[\"allocated_m\"] == pd.Period(year = 2018, month = 1, freq = 'M'))][\"nbcscore\"],\n",
    "                     opacity = 0.6,\n",
    "                     name = group,\n",
    "                     xbins = dict(start = 0,\n",
    "                                 end = 1000,\n",
    "                                 size = 10)\n",
    "                    )\n",
    "        for group in groups\n",
    "       ]"
   ]
  },
  {
   "cell_type": "code",
   "execution_count": 74,
   "metadata": {},
   "outputs": [],
   "source": [
    "layout = go.Layout(\n",
    "    width=1000,\n",
    "    height=500,\n",
    "    title='Histogram of Leads in Jan-2018',\n",
    "    xaxis=dict(\n",
    "        title='NBC Score',\n",
    "        titlefont=dict(\n",
    "            family='Courier New, monospace',\n",
    "            size=18,\n",
    "            color='#7f7f7f'\n",
    "        )\n",
    "    ),\n",
    "    yaxis=dict(\n",
    "        title='# Allocated Leads',\n",
    "        titlefont=dict(\n",
    "            family='Courier New, monospace',\n",
    "            size=18,\n",
    "            color='#7f7f7f'\n",
    "        )\n",
    "    ),\n",
    "    barmode='overlay'\n",
    ")"
   ]
  },
  {
   "cell_type": "code",
   "execution_count": 75,
   "metadata": {},
   "outputs": [
    {
     "data": {
      "text/plain": [
       "'file:///home/lamk5/181115_Python_Training/first_plot.html'"
      ]
     },
     "execution_count": 75,
     "metadata": {},
     "output_type": "execute_result"
    }
   ],
   "source": [
    "fig = dict(data=data, layout=layout)\n",
    "po.plot(fig, filename='first_plot.html')"
   ]
  },
  {
   "cell_type": "markdown",
   "metadata": {},
   "source": [
    "##### Plot with Drop Downs"
   ]
  },
  {
   "cell_type": "code",
   "execution_count": 82,
   "metadata": {},
   "outputs": [],
   "source": [
    "data = [\n",
    "        go.Histogram(x=allocator_data.loc[\n",
    "                        (allocator_data[\"Group\"] == group) \n",
    "                        & (allocator_data[\"allocated_m\"] == perd)][\"nbcscore\"],\n",
    "                     opacity = 0.5,\n",
    "                     name = group,\n",
    "                     xbins = dict(start = 0,\n",
    "                                 end = 1000,\n",
    "                                 size = 10)\n",
    "                    )\n",
    "        for perd in months\n",
    "        for group in groups\n",
    "       ]"
   ]
  },
  {
   "cell_type": "code",
   "execution_count": 83,
   "metadata": {},
   "outputs": [],
   "source": [
    "updatemenus=list([\n",
    "    dict(\n",
    "        buttons=[   \n",
    "            dict(\n",
    "                label=months[i].strftime('%Y-%m'),\n",
    "                method='update',\n",
    "                args=[{'visible': i * len(groups) * [False] + len(groups) * [True] + (len(months) - i - 1) * len(groups) * [False]},\n",
    "                      {'title': 'Distribution of Leads for {0}'.format(months[i].strftime('%b %Y'))}]\n",
    "            )\n",
    "            for i in range(len(months))\n",
    "        ],\n",
    "        direction = 'down',\n",
    "        pad = {'r': 10, 't': 10},\n",
    "        showactive = True,\n",
    "        x = 0.1,\n",
    "        xanchor = 'right',\n",
    "        y = 1.1,\n",
    "        yanchor = 'top' \n",
    "    ),\n",
    "])"
   ]
  },
  {
   "cell_type": "code",
   "execution_count": 84,
   "metadata": {},
   "outputs": [],
   "source": [
    "layout = go.Layout(\n",
    "    width=1000,\n",
    "    height=500,\n",
    "    title='Histogram of Leads in Jan 2018',\n",
    "    xaxis=dict(\n",
    "        title='NBC Score',\n",
    "        titlefont=dict(\n",
    "            family='Courier New, monospace',\n",
    "            size=18,\n",
    "            color='#7f7f7f'\n",
    "        )\n",
    "    ),\n",
    "    yaxis=dict(\n",
    "        title='# Allocated Leads',\n",
    "        titlefont=dict(\n",
    "            family='Courier New, monospace',\n",
    "            size=18,\n",
    "            color='#7f7f7f'\n",
    "        )\n",
    "    ),\n",
    "    barmode='overlay',\n",
    "    updatemenus=updatemenus\n",
    ")"
   ]
  },
  {
   "cell_type": "code",
   "execution_count": 85,
   "metadata": {},
   "outputs": [
    {
     "data": {
      "text/plain": [
       "'file:///home/lamk5/181115_Python_Training/second_plot.html'"
      ]
     },
     "execution_count": 85,
     "metadata": {},
     "output_type": "execute_result"
    }
   ],
   "source": [
    "fig = dict(data=data, layout=layout)\n",
    "po.plot(fig, filename='second_plot.html')"
   ]
  },
  {
   "cell_type": "markdown",
   "metadata": {},
   "source": [
    "### Time Series Modelling with FBProphet"
   ]
  },
  {
   "cell_type": "code",
   "execution_count": 2,
   "metadata": {},
   "outputs": [],
   "source": [
    "from fbprophet import Prophet"
   ]
  },
  {
   "cell_type": "markdown",
   "metadata": {},
   "source": [
    "#### Prepare data such that it has day level allocated volumes by business group"
   ]
  },
  {
   "cell_type": "code",
   "execution_count": 45,
   "metadata": {},
   "outputs": [],
   "source": [
    "df = allocator_data.groupby([\"Group\", \"allocated_d\"])[\"nbcscore\"].count().reset_index()\n",
    "df.columns = [\"Group\", \"ds\", \"y\"] # Columns DS and Y are required by FBProphet"
   ]
  },
  {
   "cell_type": "code",
   "execution_count": 46,
   "metadata": {},
   "outputs": [
    {
     "data": {
      "text/html": [
       "<div>\n",
       "<style scoped>\n",
       "    .dataframe tbody tr th:only-of-type {\n",
       "        vertical-align: middle;\n",
       "    }\n",
       "\n",
       "    .dataframe tbody tr th {\n",
       "        vertical-align: top;\n",
       "    }\n",
       "\n",
       "    .dataframe thead th {\n",
       "        text-align: right;\n",
       "    }\n",
       "</style>\n",
       "<table border=\"1\" class=\"dataframe\">\n",
       "  <thead>\n",
       "    <tr style=\"text-align: right;\">\n",
       "      <th></th>\n",
       "      <th>Group</th>\n",
       "      <th>ds</th>\n",
       "      <th>y</th>\n",
       "    </tr>\n",
       "  </thead>\n",
       "  <tbody>\n",
       "    <tr>\n",
       "      <th>0</th>\n",
       "      <td>Customer</td>\n",
       "      <td>2018-01-02</td>\n",
       "      <td>171</td>\n",
       "    </tr>\n",
       "    <tr>\n",
       "      <th>1</th>\n",
       "      <td>Customer</td>\n",
       "      <td>2018-01-03</td>\n",
       "      <td>184</td>\n",
       "    </tr>\n",
       "    <tr>\n",
       "      <th>2</th>\n",
       "      <td>Customer</td>\n",
       "      <td>2018-01-04</td>\n",
       "      <td>160</td>\n",
       "    </tr>\n",
       "    <tr>\n",
       "      <th>3</th>\n",
       "      <td>Customer</td>\n",
       "      <td>2018-01-05</td>\n",
       "      <td>163</td>\n",
       "    </tr>\n",
       "    <tr>\n",
       "      <th>4</th>\n",
       "      <td>Customer</td>\n",
       "      <td>2018-01-08</td>\n",
       "      <td>1079</td>\n",
       "    </tr>\n",
       "    <tr>\n",
       "      <th>5</th>\n",
       "      <td>Customer</td>\n",
       "      <td>2018-01-09</td>\n",
       "      <td>2434</td>\n",
       "    </tr>\n",
       "    <tr>\n",
       "      <th>6</th>\n",
       "      <td>Customer</td>\n",
       "      <td>2018-01-10</td>\n",
       "      <td>2601</td>\n",
       "    </tr>\n",
       "    <tr>\n",
       "      <th>7</th>\n",
       "      <td>Customer</td>\n",
       "      <td>2018-01-11</td>\n",
       "      <td>2708</td>\n",
       "    </tr>\n",
       "    <tr>\n",
       "      <th>8</th>\n",
       "      <td>Customer</td>\n",
       "      <td>2018-01-12</td>\n",
       "      <td>2301</td>\n",
       "    </tr>\n",
       "    <tr>\n",
       "      <th>9</th>\n",
       "      <td>Customer</td>\n",
       "      <td>2018-01-15</td>\n",
       "      <td>1916</td>\n",
       "    </tr>\n",
       "  </tbody>\n",
       "</table>\n",
       "</div>"
      ],
      "text/plain": [
       "      Group          ds     y\n",
       "0  Customer  2018-01-02   171\n",
       "1  Customer  2018-01-03   184\n",
       "2  Customer  2018-01-04   160\n",
       "3  Customer  2018-01-05   163\n",
       "4  Customer  2018-01-08  1079\n",
       "5  Customer  2018-01-09  2434\n",
       "6  Customer  2018-01-10  2601\n",
       "7  Customer  2018-01-11  2708\n",
       "8  Customer  2018-01-12  2301\n",
       "9  Customer  2018-01-15  1916"
      ]
     },
     "execution_count": 46,
     "metadata": {},
     "output_type": "execute_result"
    }
   ],
   "source": [
    "df.iloc[:10]"
   ]
  },
  {
   "cell_type": "code",
   "execution_count": 57,
   "metadata": {},
   "outputs": [],
   "source": [
    "train = df.loc[(df[\"ds\"] <= dt.date(2018, 4, 30))\n",
    "       & (df[\"Group\"] == \"Customer\"), [\"ds\", \"y\"]]\n",
    "test = df.loc[(df[\"ds\"] > dt.date(2018, 4, 30))\n",
    "       & (df[\"Group\"] == \"Customer\"), [\"ds\", \"y\"]]"
   ]
  },
  {
   "cell_type": "markdown",
   "metadata": {},
   "source": [
    "#### Auto-Time Series with Facebook Prophet"
   ]
  },
  {
   "cell_type": "code",
   "execution_count": 58,
   "metadata": {},
   "outputs": [
    {
     "name": "stderr",
     "output_type": "stream",
     "text": [
      "INFO:fbprophet.forecaster:Disabling yearly seasonality. Run prophet with yearly_seasonality=True to override this.\n",
      "INFO:fbprophet.forecaster:Disabling daily seasonality. Run prophet with daily_seasonality=True to override this.\n"
     ]
    },
    {
     "data": {
      "text/plain": [
       "<fbprophet.forecaster.Prophet at 0x7f68f7540b00>"
      ]
     },
     "execution_count": 58,
     "metadata": {},
     "output_type": "execute_result"
    }
   ],
   "source": [
    "m = Prophet()\n",
    "m.fit(train)"
   ]
  },
  {
   "cell_type": "code",
   "execution_count": 59,
   "metadata": {},
   "outputs": [
    {
     "data": {
      "text/html": [
       "<div>\n",
       "<style scoped>\n",
       "    .dataframe tbody tr th:only-of-type {\n",
       "        vertical-align: middle;\n",
       "    }\n",
       "\n",
       "    .dataframe tbody tr th {\n",
       "        vertical-align: top;\n",
       "    }\n",
       "\n",
       "    .dataframe thead th {\n",
       "        text-align: right;\n",
       "    }\n",
       "</style>\n",
       "<table border=\"1\" class=\"dataframe\">\n",
       "  <thead>\n",
       "    <tr style=\"text-align: right;\">\n",
       "      <th></th>\n",
       "      <th>ds</th>\n",
       "    </tr>\n",
       "  </thead>\n",
       "  <tbody>\n",
       "    <tr>\n",
       "      <th>135</th>\n",
       "      <td>2018-06-26</td>\n",
       "    </tr>\n",
       "    <tr>\n",
       "      <th>136</th>\n",
       "      <td>2018-06-27</td>\n",
       "    </tr>\n",
       "    <tr>\n",
       "      <th>137</th>\n",
       "      <td>2018-06-28</td>\n",
       "    </tr>\n",
       "    <tr>\n",
       "      <th>138</th>\n",
       "      <td>2018-06-29</td>\n",
       "    </tr>\n",
       "    <tr>\n",
       "      <th>139</th>\n",
       "      <td>2018-06-30</td>\n",
       "    </tr>\n",
       "  </tbody>\n",
       "</table>\n",
       "</div>"
      ],
      "text/plain": [
       "            ds\n",
       "135 2018-06-26\n",
       "136 2018-06-27\n",
       "137 2018-06-28\n",
       "138 2018-06-29\n",
       "139 2018-06-30"
      ]
     },
     "execution_count": 59,
     "metadata": {},
     "output_type": "execute_result"
    }
   ],
   "source": [
    "future = m.make_future_dataframe(periods=61)\n",
    "future.iloc[-5:]"
   ]
  },
  {
   "cell_type": "code",
   "execution_count": 60,
   "metadata": {},
   "outputs": [
    {
     "data": {
      "text/html": [
       "<div>\n",
       "<style scoped>\n",
       "    .dataframe tbody tr th:only-of-type {\n",
       "        vertical-align: middle;\n",
       "    }\n",
       "\n",
       "    .dataframe tbody tr th {\n",
       "        vertical-align: top;\n",
       "    }\n",
       "\n",
       "    .dataframe thead th {\n",
       "        text-align: right;\n",
       "    }\n",
       "</style>\n",
       "<table border=\"1\" class=\"dataframe\">\n",
       "  <thead>\n",
       "    <tr style=\"text-align: right;\">\n",
       "      <th></th>\n",
       "      <th>ds</th>\n",
       "      <th>yhat</th>\n",
       "      <th>yhat_lower</th>\n",
       "      <th>yhat_upper</th>\n",
       "    </tr>\n",
       "  </thead>\n",
       "  <tbody>\n",
       "    <tr>\n",
       "      <th>135</th>\n",
       "      <td>2018-06-26</td>\n",
       "      <td>2990.525215</td>\n",
       "      <td>2097.935909</td>\n",
       "      <td>3853.113610</td>\n",
       "    </tr>\n",
       "    <tr>\n",
       "      <th>136</th>\n",
       "      <td>2018-06-27</td>\n",
       "      <td>2882.709412</td>\n",
       "      <td>1990.608736</td>\n",
       "      <td>3777.227283</td>\n",
       "    </tr>\n",
       "    <tr>\n",
       "      <th>137</th>\n",
       "      <td>2018-06-28</td>\n",
       "      <td>2914.311146</td>\n",
       "      <td>2051.603926</td>\n",
       "      <td>3769.267918</td>\n",
       "    </tr>\n",
       "    <tr>\n",
       "      <th>138</th>\n",
       "      <td>2018-06-29</td>\n",
       "      <td>2633.358573</td>\n",
       "      <td>1757.693450</td>\n",
       "      <td>3543.089168</td>\n",
       "    </tr>\n",
       "    <tr>\n",
       "      <th>139</th>\n",
       "      <td>2018-06-30</td>\n",
       "      <td>1621.693969</td>\n",
       "      <td>761.667880</td>\n",
       "      <td>2507.779664</td>\n",
       "    </tr>\n",
       "  </tbody>\n",
       "</table>\n",
       "</div>"
      ],
      "text/plain": [
       "            ds         yhat   yhat_lower   yhat_upper\n",
       "135 2018-06-26  2990.525215  2097.935909  3853.113610\n",
       "136 2018-06-27  2882.709412  1990.608736  3777.227283\n",
       "137 2018-06-28  2914.311146  2051.603926  3769.267918\n",
       "138 2018-06-29  2633.358573  1757.693450  3543.089168\n",
       "139 2018-06-30  1621.693969   761.667880  2507.779664"
      ]
     },
     "execution_count": 60,
     "metadata": {},
     "output_type": "execute_result"
    }
   ],
   "source": [
    "forecast = m.predict(future)\n",
    "forecast[['ds', 'yhat', 'yhat_lower', 'yhat_upper']].iloc[-5:]"
   ]
  },
  {
   "cell_type": "code",
   "execution_count": 61,
   "metadata": {},
   "outputs": [
    {
     "data": {
      "image/png": "[encoded data removed]",
      "text/plain": [
       "<Figure size 720x432 with 1 Axes>"
      ]
     },
     "metadata": {},
     "output_type": "display_data"
    }
   ],
   "source": [
    "fig1 = m.plot(forecast)"
   ]
  },
  {
   "cell_type": "code",
   "execution_count": 62,
   "metadata": {},
   "outputs": [
    {
     "data": {
      "image/png": "[encoded data removed]",
      "text/plain": [
       "<Figure size 648x432 with 2 Axes>"
      ]
     },
     "metadata": {},
     "output_type": "display_data"
    }
   ],
   "source": [
    "fig2 = m.plot_components(forecast)"
   ]
  },
  {
   "cell_type": "code",
   "execution_count": null,
   "metadata": {},
   "outputs": [],
   "source": []
  }
 ],
 "metadata": {
  "kernelspec": {
   "display_name": "Python 3",
   "language": "python",
   "name": "python3"
  },
  "language_info": {
   "codemirror_mode": {
    "name": "ipython",
    "version": 3
   },
   "file_extension": ".py",
   "mimetype": "text/x-python",
   "name": "python",
   "nbconvert_exporter": "python",
   "pygments_lexer": "ipython3",
   "version": "3.6.5"
  }
 },
 "nbformat": 4,
 "nbformat_minor": 2
}
